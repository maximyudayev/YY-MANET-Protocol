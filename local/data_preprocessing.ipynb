{
 "cells": [
  {
   "cell_type": "markdown",
   "id": "fifteen-metabolism",
   "metadata": {},
   "source": [
    "# Data Preprocessing"
   ]
  },
  {
   "cell_type": "code",
   "execution_count": 1,
   "id": "realistic-trail",
   "metadata": {},
   "outputs": [
    {
     "data": {
      "text/html": [
       "<table style=\"border: 2px solid white;\">\n",
       "<tr>\n",
       "<td style=\"vertical-align: top; border: 0px solid white\">\n",
       "<h3 style=\"text-align: left;\">Client</h3>\n",
       "<ul style=\"text-align: left; list-style: none; margin: 0; padding: 0;\">\n",
       "  <li><b>Scheduler: </b>tcp://127.0.0.1:41709</li>\n",
       "  <li><b>Dashboard: </b><a href='http://127.0.0.1:8787/status' target='_blank'>http://127.0.0.1:8787/status</a></li>\n",
       "</ul>\n",
       "</td>\n",
       "<td style=\"vertical-align: top; border: 0px solid white\">\n",
       "<h3 style=\"text-align: left;\">Cluster</h3>\n",
       "<ul style=\"text-align: left; list-style:none; margin: 0; padding: 0;\">\n",
       "  <li><b>Workers: </b>4</li>\n",
       "  <li><b>Cores: </b>4</li>\n",
       "  <li><b>Memory: </b>4.01 GB</li>\n",
       "</ul>\n",
       "</td>\n",
       "</tr>\n",
       "</table>"
      ],
      "text/plain": [
       "<Client: 'tcp://127.0.0.1:41709' processes=4 threads=4, memory=4.01 GB>"
      ]
     },
     "execution_count": 1,
     "metadata": {},
     "output_type": "execute_result"
    }
   ],
   "source": [
    "from dask.distributed import Client\n",
    "import dask.dataframe as dd\n",
    "import time\n",
    "\n",
    "client = Client()\n",
    "client"
   ]
  },
  {
   "cell_type": "markdown",
   "id": "confidential-token",
   "metadata": {},
   "source": [
    "## Convert Dataset Type ##\n",
    "Convert bus CSV data to Parquet for more efficient operations on raw data"
   ]
  },
  {
   "cell_type": "code",
   "execution_count": null,
   "id": "tested-focus",
   "metadata": {},
   "outputs": [],
   "source": [
    "df = dd.read_csv('./../data/mobility/bus_data.csv')\n",
    "dd.to_parquet(df, './../data/mobility/bus_data.parquet', engine='pyarrow')"
   ]
  },
  {
   "cell_type": "code",
   "execution_count": null,
   "id": "laughing-netscape",
   "metadata": {},
   "outputs": [],
   "source": [
    "!pwd\n",
    "!ls ./../data/mobility/bus_data.parquet/"
   ]
  },
  {
   "cell_type": "markdown",
   "id": "temporal-breakfast",
   "metadata": {},
   "source": [
    "## Create 'timestamp' Index Column ##\n",
    "Read the Parquet files back lazily as Dask.DataFrame and make a 'timestamp' column"
   ]
  },
  {
   "cell_type": "code",
   "execution_count": 2,
   "id": "cardiovascular-fairy",
   "metadata": {},
   "outputs": [
    {
     "data": {
      "text/html": [
       "<div><strong>Dask DataFrame Structure:</strong></div>\n",
       "<div>\n",
       "<style scoped>\n",
       "    .dataframe tbody tr th:only-of-type {\n",
       "        vertical-align: middle;\n",
       "    }\n",
       "\n",
       "    .dataframe tbody tr th {\n",
       "        vertical-align: top;\n",
       "    }\n",
       "\n",
       "    .dataframe thead th {\n",
       "        text-align: right;\n",
       "    }\n",
       "</style>\n",
       "<table border=\"1\" class=\"dataframe\">\n",
       "  <thead>\n",
       "    <tr style=\"text-align: right;\">\n",
       "      <th></th>\n",
       "      <th>date</th>\n",
       "      <th>time</th>\n",
       "      <th>order</th>\n",
       "      <th>line</th>\n",
       "      <th>latitude</th>\n",
       "      <th>longitude</th>\n",
       "      <th>speed</th>\n",
       "      <th>timestamp</th>\n",
       "    </tr>\n",
       "    <tr>\n",
       "      <th>npartitions=199</th>\n",
       "      <th></th>\n",
       "      <th></th>\n",
       "      <th></th>\n",
       "      <th></th>\n",
       "      <th></th>\n",
       "      <th></th>\n",
       "      <th></th>\n",
       "      <th></th>\n",
       "    </tr>\n",
       "  </thead>\n",
       "  <tbody>\n",
       "    <tr>\n",
       "      <th></th>\n",
       "      <td>object</td>\n",
       "      <td>object</td>\n",
       "      <td>object</td>\n",
       "      <td>object</td>\n",
       "      <td>float64</td>\n",
       "      <td>float64</td>\n",
       "      <td>float64</td>\n",
       "      <td>datetime64[ns]</td>\n",
       "    </tr>\n",
       "    <tr>\n",
       "      <th></th>\n",
       "      <td>...</td>\n",
       "      <td>...</td>\n",
       "      <td>...</td>\n",
       "      <td>...</td>\n",
       "      <td>...</td>\n",
       "      <td>...</td>\n",
       "      <td>...</td>\n",
       "      <td>...</td>\n",
       "    </tr>\n",
       "    <tr>\n",
       "      <th>...</th>\n",
       "      <td>...</td>\n",
       "      <td>...</td>\n",
       "      <td>...</td>\n",
       "      <td>...</td>\n",
       "      <td>...</td>\n",
       "      <td>...</td>\n",
       "      <td>...</td>\n",
       "      <td>...</td>\n",
       "    </tr>\n",
       "    <tr>\n",
       "      <th></th>\n",
       "      <td>...</td>\n",
       "      <td>...</td>\n",
       "      <td>...</td>\n",
       "      <td>...</td>\n",
       "      <td>...</td>\n",
       "      <td>...</td>\n",
       "      <td>...</td>\n",
       "      <td>...</td>\n",
       "    </tr>\n",
       "    <tr>\n",
       "      <th></th>\n",
       "      <td>...</td>\n",
       "      <td>...</td>\n",
       "      <td>...</td>\n",
       "      <td>...</td>\n",
       "      <td>...</td>\n",
       "      <td>...</td>\n",
       "      <td>...</td>\n",
       "      <td>...</td>\n",
       "    </tr>\n",
       "  </tbody>\n",
       "</table>\n",
       "</div>\n",
       "<div>Dask Name: assign, 1393 tasks</div>"
      ],
      "text/plain": [
       "Dask DataFrame Structure:\n",
       "                   date    time   order    line latitude longitude    speed       timestamp\n",
       "npartitions=199                                                                            \n",
       "                 object  object  object  object  float64   float64  float64  datetime64[ns]\n",
       "                    ...     ...     ...     ...      ...       ...      ...             ...\n",
       "...                 ...     ...     ...     ...      ...       ...      ...             ...\n",
       "                    ...     ...     ...     ...      ...       ...      ...             ...\n",
       "                    ...     ...     ...     ...      ...       ...      ...             ...\n",
       "Dask Name: assign, 1393 tasks"
      ]
     },
     "execution_count": 2,
     "metadata": {},
     "output_type": "execute_result"
    }
   ],
   "source": [
    "df = dd.read_parquet('./../data/mobility/bus_data.parquet', engine='pyarrow')\n",
    "df['timestamp'] = dd.to_datetime(df['date'] + ' ' + df['time'])\n",
    "df"
   ]
  },
  {
   "cell_type": "markdown",
   "id": "secret-valuation",
   "metadata": {},
   "source": [
    "## Numify 'order' and 'line' ##\n",
    "Find unique bus route names and bus license plate numbers and write them to a CSV file"
   ]
  },
  {
   "cell_type": "code",
   "execution_count": null,
   "id": "constitutional-senator",
   "metadata": {},
   "outputs": [],
   "source": [
    "orders = df['order'].unique()\n",
    "lines = df['line'].unique()"
   ]
  },
  {
   "cell_type": "code",
   "execution_count": null,
   "id": "bigger-homeless",
   "metadata": {},
   "outputs": [],
   "source": [
    "orders.to_csv('./../data/mobility/orders.csv')\n",
    "lines.to_csv('./../data/mobility/lines.csv')"
   ]
  },
  {
   "cell_type": "markdown",
   "id": "extreme-flight",
   "metadata": {},
   "source": [
    "Bring 'orders' and 'lines' sets back in the workspace as lists"
   ]
  },
  {
   "cell_type": "code",
   "execution_count": 3,
   "id": "natural-furniture",
   "metadata": {},
   "outputs": [],
   "source": [
    "orders_csv = dd.read_csv('./../data/mobility/orders.csv/0.part').compute()\n",
    "lines_csv = dd.read_csv('./../data/mobility/lines.csv/0.part').compute()\n",
    "\n",
    "orders = orders_csv['order'].values.tolist()\n",
    "lines = lines_csv['line'].values.tolist()"
   ]
  },
  {
   "cell_type": "markdown",
   "id": "liable-vintage",
   "metadata": {},
   "source": [
    "Map element-wise the Dask.DataFrame of bus data to numify order/line information"
   ]
  },
  {
   "cell_type": "code",
   "execution_count": 4,
   "id": "silent-integral",
   "metadata": {},
   "outputs": [],
   "source": [
    "df_new = df[['timestamp','order','line','latitude','longitude','speed']]\n",
    "df_new['order'] = df['order'].map(lambda x: orders.index(x), meta=('order','int'))\n",
    "df_new['line'] = df['line'].map(lambda x: lines.index(x), meta=('line','int'))"
   ]
  },
  {
   "cell_type": "markdown",
   "id": "subject-magnitude",
   "metadata": {},
   "source": [
    "Write the transformed data into a parquet file"
   ]
  },
  {
   "cell_type": "code",
   "execution_count": null,
   "id": "chemical-carrier",
   "metadata": {
    "scrolled": true
   },
   "outputs": [],
   "source": [
    "dd.to_parquet(df_new, './../data/mobility/bus_data_clean.parquet', engine='pyarrow')"
   ]
  },
  {
   "cell_type": "markdown",
   "id": "elect-weather",
   "metadata": {},
   "source": [
    "Remove no longer needed variables from the workspace to free up memory"
   ]
  },
  {
   "cell_type": "code",
   "execution_count": null,
   "id": "informal-complex",
   "metadata": {},
   "outputs": [],
   "source": [
    "del orders, lines, orders_csv, lines_csv, df_new, df"
   ]
  },
  {
   "cell_type": "markdown",
   "id": "independent-index",
   "metadata": {},
   "source": [
    "## Cleaned Data ##\n",
    "Shapefile has a singly-linked list structure, while .shx has an array structure: each row entry of both correspond to the same record\n",
    "\n",
    "```fiona``` takes advantage of the .shx accompanying file to offset into the binary .shp without parsing the entire set row-by-row \n",
    "\n",
    "```GeoPandas``` wraps ```fiona``` in its ```geopandas.read_file()``` producing an in-memory ```GeoDataFrame```"
   ]
  },
  {
   "cell_type": "code",
   "execution_count": 7,
   "id": "forced-palestinian",
   "metadata": {},
   "outputs": [
    {
     "data": {
      "text/html": [
       "<table style=\"border: 2px solid white;\">\n",
       "<tr>\n",
       "<td style=\"vertical-align: top; border: 0px solid white\">\n",
       "<h3 style=\"text-align: left;\">Client</h3>\n",
       "<ul style=\"text-align: left; list-style: none; margin: 0; padding: 0;\">\n",
       "  <li><b>Scheduler: </b>tcp://127.0.0.1:45157</li>\n",
       "  <li><b>Dashboard: </b><a href='http://127.0.0.1:8787/status' target='_blank'>http://127.0.0.1:8787/status</a></li>\n",
       "</ul>\n",
       "</td>\n",
       "<td style=\"vertical-align: top; border: 0px solid white\">\n",
       "<h3 style=\"text-align: left;\">Cluster</h3>\n",
       "<ul style=\"text-align: left; list-style:none; margin: 0; padding: 0;\">\n",
       "  <li><b>Workers: </b>4</li>\n",
       "  <li><b>Cores: </b>4</li>\n",
       "  <li><b>Memory: </b>4.01 GB</li>\n",
       "</ul>\n",
       "</td>\n",
       "</tr>\n",
       "</table>"
      ],
      "text/plain": [
       "<Client: 'tcp://127.0.0.1:45157' processes=4 threads=4, memory=4.01 GB>"
      ]
     },
     "execution_count": 7,
     "metadata": {},
     "output_type": "execute_result"
    }
   ],
   "source": [
    "from dask.distributed import Client\n",
    "import dask.dataframe as dd\n",
    "\n",
    "client = Client()\n",
    "client"
   ]
  },
  {
   "cell_type": "code",
   "execution_count": 4,
   "id": "naughty-sympathy",
   "metadata": {},
   "outputs": [],
   "source": [
    "import geopandas\n",
    "import dask_geopandas\n",
    "from dask.delayed import delayed\n",
    "from shapely.geometry import LineString, Polygon, box\n",
    "from shapely import wkb"
   ]
  },
  {
   "cell_type": "markdown",
   "id": "bridal-intro",
   "metadata": {},
   "source": [
    "Using ```Dask and GeoPandas```, read in ESRI Shapefile in partitions and construct a Dask Dataframe out of it, according to a neat prototype of Joris [geopandas/dask-geopandas#11](https://github.com/geopandas/dask-geopandas/issues/11#issue-638156319)"
   ]
  },
  {
   "cell_type": "code",
   "execution_count": 37,
   "id": "anticipated-ratio",
   "metadata": {
    "scrolled": true
   },
   "outputs": [],
   "source": [
    "def read_file(path, npartitions):\n",
    "    \n",
    "    with fiona.open(path) as collection:\n",
    "        total_size = collection.session.get_length()\n",
    "    \n",
    "    # TODO smart inference for a good default partition size\n",
    "    batch_size = (total_size // npartitions) + 1\n",
    "    \n",
    "    row_offset = 0\n",
    "    dfs = []\n",
    "    \n",
    "    while row_offset < total_size:\n",
    "        rows = slice(row_offset, min(row_offset + batch_size, total_size))\n",
    "        df = delayed(geopandas.read_file)(path, rows=rows)\n",
    "        df1 = delayed(df.to_crs)(3857)\n",
    "        dfs.append(df1)\n",
    "        row_offset += batch_size\n",
    "    \n",
    "    # TODO this could be inferred from fiona's collection.meta[\"schema\"]\n",
    "    meta = geopandas.read_file(path, rows=5)\n",
    "    \n",
    "    return dd.from_delayed(dfs, meta)"
   ]
  },
  {
   "cell_type": "markdown",
   "id": "precious-birthday",
   "metadata": {},
   "source": [
    "```dask-geopandas``` manages the interpretation of the produced Dask GeoDataFrame and writes ```Shapely``` geometry as bytes for the later consumption"
   ]
  },
  {
   "cell_type": "code",
   "execution_count": 40,
   "id": "pharmaceutical-commander",
   "metadata": {},
   "outputs": [
    {
     "data": {
      "text/html": [
       "<div><strong>Dask-GeoPandas GeoDataFrame Structure:</strong></div>\n",
       "<div>\n",
       "<style scoped>\n",
       "    .dataframe tbody tr th:only-of-type {\n",
       "        vertical-align: middle;\n",
       "    }\n",
       "\n",
       "    .dataframe tbody tr th {\n",
       "        vertical-align: top;\n",
       "    }\n",
       "\n",
       "    .dataframe thead th {\n",
       "        text-align: right;\n",
       "    }\n",
       "</style>\n",
       "<table border=\"1\" class=\"dataframe\">\n",
       "  <thead>\n",
       "    <tr style=\"text-align: right;\">\n",
       "      <th></th>\n",
       "      <th>osm_id</th>\n",
       "      <th>code</th>\n",
       "      <th>fclass</th>\n",
       "      <th>name</th>\n",
       "      <th>ref</th>\n",
       "      <th>oneway</th>\n",
       "      <th>maxspeed</th>\n",
       "      <th>layer</th>\n",
       "      <th>bridge</th>\n",
       "      <th>tunnel</th>\n",
       "      <th>geometry</th>\n",
       "    </tr>\n",
       "    <tr>\n",
       "      <th>npartitions=24</th>\n",
       "      <th></th>\n",
       "      <th></th>\n",
       "      <th></th>\n",
       "      <th></th>\n",
       "      <th></th>\n",
       "      <th></th>\n",
       "      <th></th>\n",
       "      <th></th>\n",
       "      <th></th>\n",
       "      <th></th>\n",
       "      <th></th>\n",
       "    </tr>\n",
       "  </thead>\n",
       "  <tbody>\n",
       "    <tr>\n",
       "      <th></th>\n",
       "      <td>object</td>\n",
       "      <td>int64</td>\n",
       "      <td>object</td>\n",
       "      <td>object</td>\n",
       "      <td>object</td>\n",
       "      <td>object</td>\n",
       "      <td>int64</td>\n",
       "      <td>int64</td>\n",
       "      <td>object</td>\n",
       "      <td>object</td>\n",
       "      <td>geometry</td>\n",
       "    </tr>\n",
       "    <tr>\n",
       "      <th></th>\n",
       "      <td>...</td>\n",
       "      <td>...</td>\n",
       "      <td>...</td>\n",
       "      <td>...</td>\n",
       "      <td>...</td>\n",
       "      <td>...</td>\n",
       "      <td>...</td>\n",
       "      <td>...</td>\n",
       "      <td>...</td>\n",
       "      <td>...</td>\n",
       "      <td>...</td>\n",
       "    </tr>\n",
       "    <tr>\n",
       "      <th>...</th>\n",
       "      <td>...</td>\n",
       "      <td>...</td>\n",
       "      <td>...</td>\n",
       "      <td>...</td>\n",
       "      <td>...</td>\n",
       "      <td>...</td>\n",
       "      <td>...</td>\n",
       "      <td>...</td>\n",
       "      <td>...</td>\n",
       "      <td>...</td>\n",
       "      <td>...</td>\n",
       "    </tr>\n",
       "    <tr>\n",
       "      <th></th>\n",
       "      <td>...</td>\n",
       "      <td>...</td>\n",
       "      <td>...</td>\n",
       "      <td>...</td>\n",
       "      <td>...</td>\n",
       "      <td>...</td>\n",
       "      <td>...</td>\n",
       "      <td>...</td>\n",
       "      <td>...</td>\n",
       "      <td>...</td>\n",
       "      <td>...</td>\n",
       "    </tr>\n",
       "    <tr>\n",
       "      <th></th>\n",
       "      <td>...</td>\n",
       "      <td>...</td>\n",
       "      <td>...</td>\n",
       "      <td>...</td>\n",
       "      <td>...</td>\n",
       "      <td>...</td>\n",
       "      <td>...</td>\n",
       "      <td>...</td>\n",
       "      <td>...</td>\n",
       "      <td>...</td>\n",
       "      <td>...</td>\n",
       "    </tr>\n",
       "  </tbody>\n",
       "</table>\n",
       "</div>\n",
       "<div>Dask Name: GeoDataFrame, 96 tasks</div>"
      ],
      "text/plain": [
       "<dask_geopandas.GeoDataFrame | 96 tasks | 24 npartitions>"
      ]
     },
     "execution_count": 40,
     "metadata": {},
     "output_type": "execute_result"
    }
   ],
   "source": [
    "gdf = read_file('./../data/osm_roads/gis_osm_roads_free_1.shp', 24)\n",
    "ddf = dask_geopandas.from_dask_dataframe(gdf)\n",
    "ddf"
   ]
  },
  {
   "cell_type": "code",
   "execution_count": 41,
   "id": "unable-roommate",
   "metadata": {},
   "outputs": [],
   "source": [
    "ddf.to_parquet('./../data/osm_roads/roads.parquet')"
   ]
  },
  {
   "cell_type": "markdown",
   "id": "suited-spank",
   "metadata": {},
   "source": [
    "For efficient geospatial queries of the road network dataset, R\\*-tree is employed. It facilitates retreival of entries corresponding to the space of interest with complexity: ![](https://latex.codecogs.com/svg.latex?O(\\log_M%20N))\n",
    "\n",
    "The R\\*-tree is composed of roads' bounding boxes, hence another step of processing of the converted Parquet data is required to precalculate it and clean up boolean and integer data from the original GEOFABRIK data"
   ]
  },
  {
   "cell_type": "code",
   "execution_count": null,
   "id": "advance-words",
   "metadata": {
    "scrolled": true
   },
   "outputs": [],
   "source": [
    "import pandas as pd\n",
    "\n",
    "def speed_limit(limit, code):\n",
    "    if limit == 0:\n",
    "        if code in [5141, 5142, 5143, 5144, 5145, 5146, 5147]: # Track/access roads, typically gravel or field\n",
    "            return 10\n",
    "        elif code in [5121, 5122, 5123, 5133, 5134, 5135]: # Minor roads and their links\n",
    "            return 30\n",
    "        elif code in [5113, 5114, 5115, 5131, 5132]: # Primary roads, their links and links of major highways\n",
    "            return 60\n",
    "        elif code in [5112]: # Urban highway\n",
    "            return 80\n",
    "        elif code in [5111]: # Suburban highway\n",
    "            return 110\n",
    "        else:\n",
    "            return 0\n",
    "    else:\n",
    "        return limit\n",
    "\n",
    "df = dd.read_parquet('./../data/osm_roads/roads.parquet', engine='pyarrow')\n",
    "\n",
    "meta = {\n",
    "    'bbox':'bytes',\n",
    "    'oneway':'bool',\n",
    "    'bridge':'bool',\n",
    "    'tunnel':'bool',\n",
    "    'geometry':'bytes',\n",
    "    'maxspeed':'int'\n",
    "}\n",
    "\n",
    "index = [\n",
    "    'bbox',\n",
    "    'oneway',\n",
    "    'bridge',\n",
    "    'tunnel',\n",
    "    'geometry',\n",
    "    'maxspeed'\n",
    "]\n",
    "\n",
    "df[['bbox','oneway','bridge','tunnel','geometry','maxspeed']] = df.apply(\n",
    "    lambda x: pd.Series([\n",
    "        box(*wkb.loads(x.geometry).bounds).wkb,\n",
    "        x.oneway != 'B',\n",
    "        x.bridge == 'T',\n",
    "        x.tunnel == 'T',\n",
    "        LineString(wkb.loads(x.geometry).coords[:].reverse()).wkb if x.oneway == 'T' else x.geometry,\n",
    "        speed_limit(x.maxspeed, x.code)\n",
    "    ], index=index),\n",
    "    axis=1,\n",
    "    meta=meta)\n",
    "\n",
    "df = df.astype({'osm_id':'int'})\n",
    "df2 = df[df.maxspeed > 0].set_index('osm_id')"
   ]
  },
  {
   "cell_type": "code",
   "execution_count": null,
   "id": "computational-cemetery",
   "metadata": {
    "scrolled": true
   },
   "outputs": [],
   "source": [
    "dd.to_parquet(df2, './../data/osm_roads/roads_new.parquet', engine='pyarrow')"
   ]
  },
  {
   "cell_type": "code",
   "execution_count": 8,
   "id": "blank-patio",
   "metadata": {},
   "outputs": [
    {
     "data": {
      "text/html": [
       "<div>\n",
       "<style scoped>\n",
       "    .dataframe tbody tr th:only-of-type {\n",
       "        vertical-align: middle;\n",
       "    }\n",
       "\n",
       "    .dataframe tbody tr th {\n",
       "        vertical-align: top;\n",
       "    }\n",
       "\n",
       "    .dataframe thead th {\n",
       "        text-align: right;\n",
       "    }\n",
       "</style>\n",
       "<table border=\"1\" class=\"dataframe\">\n",
       "  <thead>\n",
       "    <tr style=\"text-align: right;\">\n",
       "      <th></th>\n",
       "      <th>code</th>\n",
       "      <th>fclass</th>\n",
       "      <th>name</th>\n",
       "      <th>ref</th>\n",
       "      <th>oneway</th>\n",
       "      <th>maxspeed</th>\n",
       "      <th>layer</th>\n",
       "      <th>bridge</th>\n",
       "      <th>tunnel</th>\n",
       "      <th>geometry</th>\n",
       "      <th>bbox</th>\n",
       "    </tr>\n",
       "    <tr>\n",
       "      <th>osm_id</th>\n",
       "      <th></th>\n",
       "      <th></th>\n",
       "      <th></th>\n",
       "      <th></th>\n",
       "      <th></th>\n",
       "      <th></th>\n",
       "      <th></th>\n",
       "      <th></th>\n",
       "      <th></th>\n",
       "      <th></th>\n",
       "      <th></th>\n",
       "    </tr>\n",
       "  </thead>\n",
       "  <tbody>\n",
       "    <tr>\n",
       "      <th>4217292</th>\n",
       "      <td>5122</td>\n",
       "      <td>residential</td>\n",
       "      <td>Rua Vinícius de Moraes</td>\n",
       "      <td>None</td>\n",
       "      <td>True</td>\n",
       "      <td>30</td>\n",
       "      <td>0</td>\n",
       "      <td>False</td>\n",
       "      <td>False</td>\n",
       "      <td>b'\\x01\\x02\\x00\\x00\\x00\\r\\x00\\x00\\x00``\\xe1\\xf0...</td>\n",
       "      <td>b'\\x01\\x03\\x00\\x00\\x00\\x01\\x00\\x00\\x00\\x05\\x00...</td>\n",
       "    </tr>\n",
       "    <tr>\n",
       "      <th>4217293</th>\n",
       "      <td>5122</td>\n",
       "      <td>residential</td>\n",
       "      <td>Rua Joana Angélica</td>\n",
       "      <td>None</td>\n",
       "      <td>True</td>\n",
       "      <td>30</td>\n",
       "      <td>0</td>\n",
       "      <td>False</td>\n",
       "      <td>False</td>\n",
       "      <td>b'\\x01\\x02\\x00\\x00\\x00\\x13\\x00\\x00\\x00\\xc8\\x99...</td>\n",
       "      <td>b'\\x01\\x03\\x00\\x00\\x00\\x01\\x00\\x00\\x00\\x05\\x00...</td>\n",
       "    </tr>\n",
       "    <tr>\n",
       "      <th>4217294</th>\n",
       "      <td>5122</td>\n",
       "      <td>residential</td>\n",
       "      <td>Rua Farme de Amoedo</td>\n",
       "      <td>None</td>\n",
       "      <td>False</td>\n",
       "      <td>30</td>\n",
       "      <td>0</td>\n",
       "      <td>False</td>\n",
       "      <td>False</td>\n",
       "      <td>b'\\x01\\x02\\x00\\x00\\x00\\x02\\x00\\x00\\x00\\xde\\x00...</td>\n",
       "      <td>b'\\x01\\x03\\x00\\x00\\x00\\x01\\x00\\x00\\x00\\x05\\x00...</td>\n",
       "    </tr>\n",
       "    <tr>\n",
       "      <th>4217295</th>\n",
       "      <td>5122</td>\n",
       "      <td>residential</td>\n",
       "      <td>Rua Teixeira de Melo</td>\n",
       "      <td>None</td>\n",
       "      <td>True</td>\n",
       "      <td>30</td>\n",
       "      <td>0</td>\n",
       "      <td>False</td>\n",
       "      <td>False</td>\n",
       "      <td>b'\\x01\\x02\\x00\\x00\\x00\\x03\\x00\\x00\\x00\\x1255\\x...</td>\n",
       "      <td>b'\\x01\\x03\\x00\\x00\\x00\\x01\\x00\\x00\\x00\\x05\\x00...</td>\n",
       "    </tr>\n",
       "    <tr>\n",
       "      <th>4217297</th>\n",
       "      <td>5122</td>\n",
       "      <td>residential</td>\n",
       "      <td>Rua Maria Quitéria</td>\n",
       "      <td>None</td>\n",
       "      <td>True</td>\n",
       "      <td>30</td>\n",
       "      <td>0</td>\n",
       "      <td>False</td>\n",
       "      <td>False</td>\n",
       "      <td>b\"\\x01\\x02\\x00\\x00\\x00\\x10\\x00\\x00\\x00\\x8fP\\x9...</td>\n",
       "      <td>b'\\x01\\x03\\x00\\x00\\x00\\x01\\x00\\x00\\x00\\x05\\x00...</td>\n",
       "    </tr>\n",
       "  </tbody>\n",
       "</table>\n",
       "</div>"
      ],
      "text/plain": [
       "         code       fclass                    name   ref  oneway  maxspeed  \\\n",
       "osm_id                                                                       \n",
       "4217292  5122  residential  Rua Vinícius de Moraes  None    True        30   \n",
       "4217293  5122  residential      Rua Joana Angélica  None    True        30   \n",
       "4217294  5122  residential     Rua Farme de Amoedo  None   False        30   \n",
       "4217295  5122  residential    Rua Teixeira de Melo  None    True        30   \n",
       "4217297  5122  residential      Rua Maria Quitéria  None    True        30   \n",
       "\n",
       "         layer  bridge  tunnel  \\\n",
       "osm_id                           \n",
       "4217292      0   False   False   \n",
       "4217293      0   False   False   \n",
       "4217294      0   False   False   \n",
       "4217295      0   False   False   \n",
       "4217297      0   False   False   \n",
       "\n",
       "                                                  geometry  \\\n",
       "osm_id                                                       \n",
       "4217292  b'\\x01\\x02\\x00\\x00\\x00\\r\\x00\\x00\\x00``\\xe1\\xf0...   \n",
       "4217293  b'\\x01\\x02\\x00\\x00\\x00\\x13\\x00\\x00\\x00\\xc8\\x99...   \n",
       "4217294  b'\\x01\\x02\\x00\\x00\\x00\\x02\\x00\\x00\\x00\\xde\\x00...   \n",
       "4217295  b'\\x01\\x02\\x00\\x00\\x00\\x03\\x00\\x00\\x00\\x1255\\x...   \n",
       "4217297  b\"\\x01\\x02\\x00\\x00\\x00\\x10\\x00\\x00\\x00\\x8fP\\x9...   \n",
       "\n",
       "                                                      bbox  \n",
       "osm_id                                                      \n",
       "4217292  b'\\x01\\x03\\x00\\x00\\x00\\x01\\x00\\x00\\x00\\x05\\x00...  \n",
       "4217293  b'\\x01\\x03\\x00\\x00\\x00\\x01\\x00\\x00\\x00\\x05\\x00...  \n",
       "4217294  b'\\x01\\x03\\x00\\x00\\x00\\x01\\x00\\x00\\x00\\x05\\x00...  \n",
       "4217295  b'\\x01\\x03\\x00\\x00\\x00\\x01\\x00\\x00\\x00\\x05\\x00...  \n",
       "4217297  b'\\x01\\x03\\x00\\x00\\x00\\x01\\x00\\x00\\x00\\x05\\x00...  "
      ]
     },
     "execution_count": 8,
     "metadata": {},
     "output_type": "execute_result"
    }
   ],
   "source": [
    "df = dd.read_parquet('./../data/osm_roads/roads_new.parquet', engine='pyarrow')\n",
    "df.head()"
   ]
  },
  {
   "cell_type": "markdown",
   "id": "mature-doubt",
   "metadata": {},
   "source": [
    "Now the data is in the ideal form to construct the R\\*-tree and shuffle the data in the ```DataFrame``` accordingly. First the R\\*-tree is bulk loaded top-down according to the [OMT method](http://ftp.informatik.rwth-aachen.de/Publications/CEUR-WS/Vol-74/files/FORUM_18.pdf)\n",
    "\n",
    "However, for the sake of time, the custom dask-friendly OMT implementation is postponed and instead the functionality of ```libspatialindex``` Python wheel ```rtree``` is taken advantage of. It generates a separate index data structure out of the unique integer indices and bounding boxes that are provided to it. The resulting R-tree can later be queried using a bounding box of interest in which case it returns integer IDs intersecting the area of interest\n",
    "\n",
    "To efficiently and trivially seek the Dask Dataframe entries, the ```osm_id``` is passed as the identifier for each bounding box upon R-tree entry insertion, which can then be directly used to index into the out-of-core dataframe. It is important that before insertion, the street segment coordinates be projected into the same CRS as the one used for the Dask Dataframe entries."
   ]
  },
  {
   "cell_type": "code",
   "execution_count": 45,
   "id": "seeing-entertainment",
   "metadata": {},
   "outputs": [],
   "source": [
    "import pyproj\n",
    "from shapely.geometry import LineString, Polygon, Point, box\n",
    "from shapely.ops import transform\n",
    "from shapely import wkb\n",
    "import fiona\n",
    "import rtree\n",
    "import time\n",
    "import numpy as np\n",
    "import pandas as pd\n",
    "import networkx as nx"
   ]
  },
  {
   "cell_type": "code",
   "execution_count": 18,
   "id": "banner-words",
   "metadata": {},
   "outputs": [
    {
     "name": "stdout",
     "output_type": "stream",
     "text": [
      "CPU times: user 18min 57s, sys: 44.2 s, total: 19min 41s\n",
      "Wall time: 18min 37s\n"
     ]
    }
   ],
   "source": [
    "%%time\n",
    "\n",
    "wgs84 = pyproj.CRS('EPSG:4326')\n",
    "pseudo_mercator = pyproj.CRS('EPSG:3857')\n",
    "\n",
    "project = pyproj.Transformer.from_crs(wgs84, pseudo_mercator, always_xy=True).transform\n",
    "\n",
    "with fiona.open('./../data/osm_roads/gis_osm_roads_free_1.shp') as layer_roads:\n",
    "    index = rtree.index.Rtree('roads')\n",
    "\n",
    "    for entry in layer_roads:\n",
    "        if entry['properties']['code'] in [5141, 5142, 5143, 5144, 5145, 5146, 5147, 5121, 5122, 5123, 5133, 5134, 5135, 5113, 5114, 5115, 5131, 5132, 5112, 5111]:\n",
    "            line = transform(project, LineString(entry['geometry']['coordinates']))\n",
    "            osm_id = int(entry['properties']['osm_id'])\n",
    "            index.insert(osm_id, line.bounds)"
   ]
  },
  {
   "cell_type": "markdown",
   "id": "interesting-twist",
   "metadata": {},
   "source": [
    "Once the index is constructed, it is serialized to disk and can be later retreived again using the same ```rtree.index.Rtree('rtree_name')``` constructor. To verify that the index is correct, list length of the index intersection with its own bounds can be performed. It returns the same number of entries as the original shapefile using ```len(fiona.open(filename.shp))```\n",
    "\n",
    "In fact, since non-routable roads like pedestrian-only, bridleways, footways, cycleways, etc. were filtered out in the step above, the R-tree index is smaller than the original shapefile from GEOFABRIK by 89'433 entries"
   ]
  },
  {
   "cell_type": "code",
   "execution_count": 8,
   "id": "artificial-sphere",
   "metadata": {},
   "outputs": [
    {
     "name": "stdout",
     "output_type": "stream",
     "text": [
      "89433\n"
     ]
    }
   ],
   "source": [
    "layer_roads = fiona.open('./../data/osm_roads/gis_osm_roads_free_1.shp')\n",
    "print(len(layer_roads) - index.count(index.bounds))\n",
    "layer_roads.close()"
   ]
  },
  {
   "cell_type": "markdown",
   "id": "modified-potato",
   "metadata": {},
   "source": [
    "Using ```rasterio``` reproject GeoTIFF Digital Elevation Model raster files from EPSG:4326 to EPSG:3857 coordinate system. This can however be done only after merging together rasters since after transformation of each tile, their sizes would no longer be equal\n",
    "\n",
    "However, to ensure the DEM GeoTIFF contains data for each road data point, it is necessary to find boundaries of the R-tree and preload raster tiles from AW3D30 for the area of interest"
   ]
  },
  {
   "cell_type": "code",
   "execution_count": 29,
   "id": "negative-texas",
   "metadata": {},
   "outputs": [
    {
     "name": "stdout",
     "output_type": "stream",
     "text": [
      "Left bottom corner: (('lat', -25.237743800000004), ('lon', -53.1848493))\n",
      "Right top corner: (('lat', -14.178782400000003), ('lon', -39.6346888))\n"
     ]
    }
   ],
   "source": [
    "import rtree\n",
    "from pyproj import Transformer\n",
    "\n",
    "transformer = Transformer.from_crs(\"EPSG:3857\", \"EPSG:4326\", always_xy=True)\n",
    "index = rtree.index.Rtree('roads')\n",
    "\n",
    "print(\n",
    "    f\"Left bottom corner: {tuple(zip(('lon','lat'),transformer.transform(index.bounds[0],index.bounds[1])))[::-1]}\\n\"\n",
    "    f\"Right top corner: {tuple(zip(('lon','lat'),transformer.transform(index.bounds[2],index.bounds[3])))[::-1]}\")"
   ]
  },
  {
   "cell_type": "markdown",
   "id": "civil-cocktail",
   "metadata": {},
   "source": [
    "Now knowing the bounding box of the R-tree in WGS84, it is straightforward to logon the website and download all the non-empty tiles before proceeding with the next steps"
   ]
  },
  {
   "cell_type": "code",
   "execution_count": 1,
   "id": "floppy-grade",
   "metadata": {},
   "outputs": [
    {
     "data": {
      "text/html": [
       "<table style=\"border: 2px solid white;\">\n",
       "<tr>\n",
       "<td style=\"vertical-align: top; border: 0px solid white\">\n",
       "<h3 style=\"text-align: left;\">Client</h3>\n",
       "<ul style=\"text-align: left; list-style: none; margin: 0; padding: 0;\">\n",
       "  <li><b>Scheduler: </b>tcp://127.0.0.1:44737</li>\n",
       "  <li><b>Dashboard: </b><a href='http://127.0.0.1:8787/status' target='_blank'>http://127.0.0.1:8787/status</a></li>\n",
       "</ul>\n",
       "</td>\n",
       "<td style=\"vertical-align: top; border: 0px solid white\">\n",
       "<h3 style=\"text-align: left;\">Cluster</h3>\n",
       "<ul style=\"text-align: left; list-style:none; margin: 0; padding: 0;\">\n",
       "  <li><b>Workers: </b>4</li>\n",
       "  <li><b>Cores: </b>4</li>\n",
       "  <li><b>Memory: </b>16.00 GB</li>\n",
       "</ul>\n",
       "</td>\n",
       "</tr>\n",
       "</table>"
      ],
      "text/plain": [
       "<Client: 'tcp://127.0.0.1:44737' processes=4 threads=4, memory=16.00 GB>"
      ]
     },
     "execution_count": 1,
     "metadata": {},
     "output_type": "execute_result"
    }
   ],
   "source": [
    "from dask.distributed import Client\n",
    "import dask.dataframe as dd\n",
    "from shapely.geometry import LineString, Polygon, Point, box\n",
    "from shapely import wkb\n",
    "import rtree\n",
    "import time\n",
    "import pandas as pd\n",
    "import networkx as nx\n",
    "\n",
    "client = Client(memory_limit='4GB')\n",
    "# client = Client()\n",
    "client"
   ]
  },
  {
   "cell_type": "code",
   "execution_count": 26,
   "id": "earned-configuration",
   "metadata": {},
   "outputs": [],
   "source": [
    "from osgeo import gdal\n",
    "import pprint\n",
    "import os\n",
    "from rasterio.transform import Affine\n",
    "import re\n",
    "import numpy as np"
   ]
  },
  {
   "cell_type": "markdown",
   "id": "welcome-gibson",
   "metadata": {},
   "source": [
    "First, to merge tiles there must be an equal number of sub-tiles in each future row, each with its own ```Affine``` transformation matrix - simply said, it is needed to zero pad data to a rectangle. Hence as the first step, for spatial sectors with no elevation data (that being sea) it is required to fill with zeros"
   ]
  },
  {
   "cell_type": "code",
   "execution_count": 34,
   "id": "pacific-facial",
   "metadata": {},
   "outputs": [],
   "source": [
    "files = []\n",
    "for i in range(15,27):\n",
    "    for k in range(40,55):\n",
    "        files.append('S0'+str(i)+'W0'+str(k))\n",
    "\n",
    "Z = np.zeros((dataset.height, dataset.width), dtype=np.int16)\n",
    "data_files = os.listdir('./../data/aw3d30_elevation')\n",
    "\n",
    "for file in files: \n",
    "    if file not in data_files:\n",
    "        s = re.findall('[0-9]{3}', file)\n",
    "        \n",
    "        os.mkdir('./../data/aw3d30_elevation/'+file)\n",
    "        \n",
    "        dataset = rasterio.open(\n",
    "            './../data/aw3d30_elevation/'+file+'/ALPSMLC30_'+file+'_DSM.tif',\n",
    "            'w',\n",
    "            driver='GTiff',\n",
    "            height=Z.shape[0],\n",
    "            width=Z.shape[1],\n",
    "            count=1,\n",
    "            dtype=Z.dtype,\n",
    "            crs='+proj=latlong',\n",
    "            transform=Affine(0.0002777777777777778, 0.0, -float(s[1]), 0.0, -0.0002777777777777778, -float(s[0])),\n",
    "        )\n",
    "\n",
    "        dataset.write(Z, 1)\n",
    "        dataset.close()"
   ]
  },
  {
   "cell_type": "markdown",
   "id": "buried-colorado",
   "metadata": {},
   "source": [
    "Once a sub-tile for every sector of the future rectangular tile is constructed, the mosaic is passed to ```GDAL``` CLI for merge, which performs merge on-disk"
   ]
  },
  {
   "cell_type": "code",
   "execution_count": 40,
   "id": "considered-nitrogen",
   "metadata": {},
   "outputs": [
    {
     "name": "stdout",
     "output_type": "stream",
     "text": [
      "CPU times: user 12.5 ms, sys: 6.29 ms, total: 18.8 ms\n",
      "Wall time: 3min 50s\n"
     ]
    },
    {
     "data": {
      "text/plain": [
       "0"
      ]
     },
     "execution_count": 40,
     "metadata": {},
     "output_type": "execute_result"
    }
   ],
   "source": [
    "%%time\n",
    "dem_list = ['./../data/aw3d30_elevation/'+file+'/ALPSMLC30_'+file+'_DSM.tif' for file in os.listdir('./../data/aw3d30_elevation')]\n",
    "dem_list.sort()\n",
    "\n",
    "cmd = 'gdal_merge.py -o ./../data/elevation/mergedDEM.tif ' + ' '.join(dem_list)\n",
    "os.system(cmd)"
   ]
  },
  {
   "cell_type": "markdown",
   "id": "healthy-electron",
   "metadata": {},
   "source": [
    "The DEM is now merged. Next step is to reproject it to a different CRS, namely EPSG:3857, which is again done on disk"
   ]
  },
  {
   "cell_type": "code",
   "execution_count": 41,
   "id": "major-subdivision",
   "metadata": {},
   "outputs": [
    {
     "name": "stdout",
     "output_type": "stream",
     "text": [
      "CPU times: user 2min 55s, sys: 3min 48s, total: 6min 43s\n",
      "Wall time: 12min 38s\n"
     ]
    }
   ],
   "source": [
    "%%time\n",
    "from rasterio.warp import calculate_default_transform, reproject, Resampling\n",
    "\n",
    "dst_crs = 'EPSG:3857'\n",
    "\n",
    "with rasterio.open('./../data/elevation/mergedDEM.tif') as src:\n",
    "    transform, width, height = calculate_default_transform(\n",
    "        src.crs, dst_crs, src.width, src.height, *src.bounds)\n",
    "    kwargs = src.meta.copy()\n",
    "    kwargs.update({\n",
    "        'crs': dst_crs,\n",
    "        'transform': transform,\n",
    "        'width': width,\n",
    "        'height': height\n",
    "    })\n",
    "\n",
    "    with rasterio.open('./../data/elevation/mergedReprojDEM.tif', 'w', **kwargs) as dst:\n",
    "        for i in range(1, src.count + 1):\n",
    "            reproject(\n",
    "                source=rasterio.band(src, i),\n",
    "                destination=rasterio.band(dst, i),\n",
    "                src_transform=src.transform,\n",
    "                src_crs=src.crs,\n",
    "                dst_transform=transform,\n",
    "                dst_crs=dst_crs,\n",
    "                resampling=Resampling.nearest)"
   ]
  },
  {
   "cell_type": "markdown",
   "id": "specified-payday",
   "metadata": {},
   "source": [
    "The resulting GeoTIFF of the region is too large and cannot be plotted at once unless ```Bokeh``` or some other lazy loading interactive visualization library is used, but some basic details of the DEM can be trivially reported for verification of the success of the above steps"
   ]
  },
  {
   "cell_type": "code",
   "execution_count": 43,
   "id": "proud-hygiene",
   "metadata": {},
   "outputs": [
    {
     "name": "stdout",
     "output_type": "stream",
     "text": [
      "{'bounds': BoundingBox(left=-6011252.502836776, bottom=-3805241.9650874436, right=-3589996.0766833476, top=-1574216.5481614613),\n",
      " 'crs': CRS.from_epsg(3857),\n",
      " 'height': 69371,\n",
      " 'transform': Affine(32.16077924386245, 0.0, -6011252.502836776,\n",
      "       0.0, -32.16077924386245, -1574216.5481614613),\n",
      " 'width': 75286}\n"
     ]
    }
   ],
   "source": [
    "dataset = rasterio.open('./../data/elevation/mergedReprojDEM.tif')\n",
    "\n",
    "pprint.pprint({\n",
    "    'crs': dataset.crs,\n",
    "    'transform': dataset.transform,\n",
    "    'width': dataset.width,\n",
    "    'height': dataset.height,\n",
    "    'bounds': dataset.bounds\n",
    "})\n",
    "\n",
    "dataset.close()"
   ]
  },
  {
   "cell_type": "code",
   "execution_count": 2,
   "id": "biblical-landing",
   "metadata": {},
   "outputs": [
    {
     "data": {
      "image/png": "[encoded data removed]",
      "text/plain": [
       "<Figure size 432x288 with 1 Axes>"
      ]
     },
     "metadata": {
      "needs_background": "light"
     },
     "output_type": "display_data"
    },
    {
     "data": {
      "text/plain": [
       "<AxesSubplot:>"
      ]
     },
     "execution_count": 2,
     "metadata": {},
     "output_type": "execute_result"
    }
   ],
   "source": [
    "# TODO: use Bokeh to interactively lazily display the DEM\n",
    "\n",
    "# show(dataset.read(), transform=dataset.transform)"
   ]
  },
  {
   "cell_type": "markdown",
   "id": "worthy-disclaimer",
   "metadata": {},
   "source": [
    "The next step is to aggregate these data sources and fetch all the necessary data into the roads Dask Dataframe for an efficient row-wise ```apply()``` operation to construct the road network Graph"
   ]
  },
  {
   "cell_type": "code",
   "execution_count": 2,
   "id": "functioning-girlfriend",
   "metadata": {},
   "outputs": [],
   "source": [
    "import xarray as xr\n",
    "\n",
    "index_url = './../data/roads'\n",
    "df_url = './../data/osm_roads/roads_new.parquet'\n",
    "dataset_url = './../data/elevation/mergedReprojDEM.tif'\n",
    "\n",
    "df = dd.read_parquet(df_url, engine='pyarrow')\n",
    "# dem = xr.open_rasterio(dataset_url, chunks={'band':1, 'x': 3500, 'y': 4000})\n",
    "# dem"
   ]
  },
  {
   "cell_type": "markdown",
   "id": "future-schedule",
   "metadata": {},
   "source": [
    "### Road Network Graph Building ###\n",
    "\n",
    "Regardless of use of sequential or paralle approach, the source for processing each road entry is universal\n",
    "\n",
    "The set of functions is applied to each Dask Dataframe row of the input roads parquet dataset and a new Dask Dataframe of nodes and edges, for Parallel approach, or a single Graph, for Sequential approach, is returned. In case of the former, an additional reduction step is later performed to construct a Graph out of the newly obtained data. The final result of either approach is a road network weighted multidirectional Graph\n",
    "\n",
    "As mentioned prior, ```MultiDiGraph``` is a directional NetworkX graph with more than 1 link between any 2 nodes, just what is required to model the desired road network: its use allows to recreate the street traffic flow rules for oneway and twoway streets. The graph is constructed by iterating over Dask Dataframe and loading weighted edges with multiple attributes into the graph. The set of attributes for each edge are - length, duration, and flatness. All 3 are the link metrics to choose from when performing routing algorithms like shortest path or multi-criteria routing. Missing node attributes for completeness are later added as well for label-based search\n",
    "\n",
    "The logical flow: workflow maps every Dask Dataframe road entry into a list of street intersections/junctions (nodes) and weighted multi-parameter links between them (edges). It uses R-Tree spatial index generated in the previous steps to obtain the list of osm_id's whose bounding boxes spatially intersect the bounding box of the road the dataset is tested against\n",
    "\n",
    "The resulted handful of osm_id's are used for constant-time trivial retrieval of the corresponding 'neighbor' entries from the Dask Dataframe to test for actual intersection. Those fulfilling this and severalother conditions compose the list of nodes and edges, which are later be fed into the NetworkX graph construction functions \n",
    "\n",
    "All this constructs a MultiDiGraph of the road network with multiple edge attributes for multi-criteria routing. Topological information can be inferred from the unhashed node values, which are the spatial coordinates of each node, for convenient plotting on a map for verification and/or visualization"
   ]
  },
  {
   "cell_type": "markdown",
   "id": "pressing-tragedy",
   "metadata": {},
   "source": [
    "#### Sample without DEM ####"
   ]
  },
  {
   "cell_type": "code",
   "execution_count": 3,
   "id": "moderate-tours",
   "metadata": {},
   "outputs": [],
   "source": [
    "def get_neighbors(index, row):\n",
    "    # Query R-Tree by the bounding box of road 'x' for neighbors except itself\n",
    "    return [int(i) for i in index.intersection(wkb.loads(row.bbox).bounds) if int(i) != row.name]\n",
    "\n",
    "\n",
    "def find_intersections(neighbors, row):\n",
    "    intersections = [] # Container for street intersections    \n",
    "    nodes = [] # Arrays of tuples for NetworkX MultiDiGraph\n",
    "    a = wkb.loads(row.geometry)\n",
    "    road = a.coords[:]\n",
    "    \n",
    "    for entry in neighbors.itertuples():\n",
    "        b = wkb.loads(entry.geometry)\n",
    "        if not (entry.bridge or entry.tunnel) and a.intersects(b): # Check if road with 'fid' osm_id actually intersects road 'x'\n",
    "            pts = a.intersection(b)\n",
    "            if pts.type == 'MultiPoint':\n",
    "                (nodes.append((pt.coords[:][0], {'junction':[row.name, entry.Index]})) for pt in pts)\n",
    "                (intersections.append(pt) for pt in pts if pt.coords[:][0] != road[0] and pt.coords[:][0] != road[-1] and (pt.coords[:][0] not in intersections))\n",
    "            elif pts.type == 'Point':\n",
    "                nodes.append((pts.coords[:][0], {'junction':[row.name, entry.Index]}))\n",
    "                if pts.coords[:][0] != road[0] and pts.coords[:][0] != road[-1] and (pts.coords[:][0] not in intersections):\n",
    "                    intersections.append(pts)\n",
    "    \n",
    "    [nodes.append((pt, {'junction':[row.name]})) for pt in [road[0], road[-1]] if not nodes or pt not in tuple(zip(*nodes))[0]]\n",
    "\n",
    "    return nodes, intersections\n",
    "\n",
    "\n",
    "def compute_edges(intersections, nodes, row):\n",
    "    road = wkb.loads(row.geometry).coords[:]\n",
    "    edges = []\n",
    "    segment_len = 0\n",
    "    previous_node = road[0] # Coordinate keeping track of previous intersection/edge end\n",
    "\n",
    "    for idx in range(len(road)-1):\n",
    "        segment = LineString(road[idx:idx+2]) # LineString of straight line segment between two consecutive points\n",
    "        segment_start = road[idx] # Coordinate updating on every segment or when intersection encountered\n",
    "        queue = [] # Point objects that intersect this particular road straight line segment\n",
    "\n",
    "        for pt in list(intersections):\n",
    "            if segment.intersects(pt):\n",
    "                queue.append(pt) # Put all junctions intersecting this segment into a queue\n",
    "                intersections.remove(pt) # Remove the junction from left-over list of street intersections\n",
    "\n",
    "        if not queue:\n",
    "            segment_len += segment.length # If no junctions in this road segment, increase length by distance between LineString consecutive points\n",
    "        else:\n",
    "            for pt in list(queue):\n",
    "                line_lengths = [LineString([segment_start, p.coords[:][0]]).length for p in queue]\n",
    "                shortest_line = min(line_lengths)\n",
    "                next_node_idx = [k for k, l in enumerate(line_lengths) if l == shortest_line][0]\n",
    "                next_node = queue[next_node_idx].coords[:][0]\n",
    "                segment_len += LineString([segment_start, next_node]).length\n",
    "\n",
    "                if segment_len: # Multiple roads crossing at the same junction. Can skip. osm_id's on intersections are maintained by nodes array\n",
    "                    edges.append((\n",
    "                        previous_node,\n",
    "                        next_node,\n",
    "                        {\n",
    "                            'length':segment_len,\n",
    "                            'weight':segment_len/row.maxspeed/1000\n",
    "                        }))\n",
    "\n",
    "                    if not row.oneway: # If both way street, add identical reverse relation between MultiDiGraph nodes\n",
    "                        edges.append((\n",
    "                            next_node,\n",
    "                            previous_node,                          \n",
    "                            {\n",
    "                                'length':segment_len,\n",
    "                                'weight':segment_len/row.maxspeed/1000\n",
    "                            }))\n",
    "\n",
    "                segment_len = 0\n",
    "                previous_node = next_node\n",
    "                segment_start = next_node\n",
    "                queue.remove(queue[next_node_idx]) # Remove the junction from the queue\n",
    "\n",
    "            segment_len += LineString([segment_start, road[idx+1]]).length # Get distance to the endpoint of the segment\n",
    "\n",
    "    edges.append((\n",
    "        previous_node,\n",
    "        road[-1],\n",
    "        {\n",
    "            'length':segment_len,\n",
    "            'weight':segment_len/row.maxspeed/1000\n",
    "        }))\n",
    "\n",
    "    if not row.oneway: # If both way street, add identical reverse relation between MultiDiGraph nodes\n",
    "        edges.append((\n",
    "            road[-1],\n",
    "            previous_node,            \n",
    "            {\n",
    "                'length':segment_len,\n",
    "                'weight':segment_len/row.maxspeed/1000\n",
    "            }))\n",
    "        \n",
    "    return edges"
   ]
  },
  {
   "cell_type": "code",
   "execution_count": 4,
   "id": "complicated-michigan",
   "metadata": {},
   "outputs": [
    {
     "name": "stdout",
     "output_type": "stream",
     "text": [
      "CPU times: user 81.6 ms, sys: 26.1 ms, total: 108 ms\n",
      "Wall time: 516 ms\n"
     ]
    },
    {
     "data": {
      "image/png": "[encoded data removed]",
      "text/plain": [
       "<IPython.core.display.Image object>"
      ]
     },
     "execution_count": 4,
     "metadata": {},
     "output_type": "execute_result"
    }
   ],
   "source": [
    "%%time\n",
    "\n",
    "def foo(row, df, index_url):\n",
    "    fids = []\n",
    "    \n",
    "    # Assumption that bridges and tunnels do not have intersections\n",
    "    if not (row.bridge or row.tunnel): \n",
    "        index = rtree.index.Rtree(index_url)\n",
    "        \n",
    "        # Retreive from R-tree osm_id's of roads whose bounding box overlaps this road's\n",
    "        fids = get_neighbors(index, row)\n",
    "    else:\n",
    "        # If bridge or tunnel, only intersects others at start/end of way\n",
    "        fids = [] \n",
    "\n",
    "    # Retreive those roads from the dataset by indexing\n",
    "    neighbors = df.loc[fids]\n",
    "    \n",
    "    # Build up list of Graph nodes and list of intersections\n",
    "    (nodes, intersections) = find_intersections(neighbors, row)\n",
    "\n",
    "    # Calculate graph edges between junction nodes\n",
    "    edges = compute_edges(intersections, nodes, row)\n",
    "\n",
    "    return nodes, edges\n",
    "\n",
    "\n",
    "# df[['nodes','edges']] = df.apply( # Process full set\n",
    "# df2 = df.loc[4217292:4331539].apply( # Process first 100 roads\n",
    "df2 = df.loc[4217292:4217308].apply( # Process first 10 roads\n",
    "    foo, \n",
    "    args=(df, index_url), \n",
    "    axis=1, \n",
    "    result_type='expand', \n",
    "    meta={0:'object',1:'object'})\n",
    "\n",
    "df2.visualize()\n",
    "# dd.to_parquet(df, './../data/osm_roads/nodes_edges.parquet', engine='pyarrow') # Process full set\n",
    "# dd.to_parquet(df2, './../data/osm_roads/nodes_edges.parquet', engine='pyarrow') # Process first 100 roads"
   ]
  },
  {
   "cell_type": "code",
   "execution_count": 5,
   "id": "certain-madness",
   "metadata": {},
   "outputs": [
    {
     "data": {
      "text/html": [
       "<div>\n",
       "<style scoped>\n",
       "    .dataframe tbody tr th:only-of-type {\n",
       "        vertical-align: middle;\n",
       "    }\n",
       "\n",
       "    .dataframe tbody tr th {\n",
       "        vertical-align: top;\n",
       "    }\n",
       "\n",
       "    .dataframe thead th {\n",
       "        text-align: right;\n",
       "    }\n",
       "</style>\n",
       "<table border=\"1\" class=\"dataframe\">\n",
       "  <thead>\n",
       "    <tr style=\"text-align: right;\">\n",
       "      <th></th>\n",
       "      <th>0</th>\n",
       "      <th>1</th>\n",
       "    </tr>\n",
       "    <tr>\n",
       "      <th>osm_id</th>\n",
       "      <th></th>\n",
       "      <th></th>\n",
       "    </tr>\n",
       "  </thead>\n",
       "  <tbody>\n",
       "    <tr>\n",
       "      <th>4217292</th>\n",
       "      <td>[((-4809319.763755888, -2630124.935315485), {'...</td>\n",
       "      <td>[((-4809319.763755888, -2630124.935315485), (-...</td>\n",
       "    </tr>\n",
       "    <tr>\n",
       "      <th>4217293</th>\n",
       "      <td>[((-4809578.325537153, -2630379.677485465), {'...</td>\n",
       "      <td>[((-4809578.325537153, -2630379.677485465), (-...</td>\n",
       "    </tr>\n",
       "    <tr>\n",
       "      <th>4217294</th>\n",
       "      <td>[((-4809058.4635151485, -2629753.3673623824), ...</td>\n",
       "      <td>[((-4809055.023742883, -2629696.1256817784), (...</td>\n",
       "    </tr>\n",
       "    <tr>\n",
       "      <th>4217295</th>\n",
       "      <td>[((-4808859.513321203, -2630283.642352637), {'...</td>\n",
       "      <td>[((-4808866.003247516, -2630420.234421048), (-...</td>\n",
       "    </tr>\n",
       "    <tr>\n",
       "      <th>4217297</th>\n",
       "      <td>[((-4809757.683500719, -2629688.6168069984), {...</td>\n",
       "      <td>[((-4809733.415851726, -2629661.5195919294), (...</td>\n",
       "    </tr>\n",
       "    <tr>\n",
       "      <th>4217298</th>\n",
       "      <td>[((-4809195.063662301, -2629621.6174828834), {...</td>\n",
       "      <td>[((-4809095.933655749, -2629588.994558264), (-...</td>\n",
       "    </tr>\n",
       "    <tr>\n",
       "      <th>4217299</th>\n",
       "      <td>[((-4809765.498128973, -2629714.9160212325), {...</td>\n",
       "      <td>[((-4809765.498128973, -2629714.9160212325), (...</td>\n",
       "    </tr>\n",
       "    <tr>\n",
       "      <th>4217302</th>\n",
       "      <td>[((-4809066.088900268, -2629880.487173095), {'...</td>\n",
       "      <td>[((-4808911.076509338, -2629889.8824461503), (...</td>\n",
       "    </tr>\n",
       "    <tr>\n",
       "      <th>4217303</th>\n",
       "      <td>[((-4810545.714176045, -2629856.7148589687), {...</td>\n",
       "      <td>[((-4810545.714176045, -2629856.7148589687), (...</td>\n",
       "    </tr>\n",
       "    <tr>\n",
       "      <th>4217308</th>\n",
       "      <td>[((-4810013.339843276, -2629890.753050877), {'...</td>\n",
       "      <td>[((-4809988.704839963, -2629666.670598563), (-...</td>\n",
       "    </tr>\n",
       "  </tbody>\n",
       "</table>\n",
       "</div>"
      ],
      "text/plain": [
       "                                                         0  \\\n",
       "osm_id                                                       \n",
       "4217292  [((-4809319.763755888, -2630124.935315485), {'...   \n",
       "4217293  [((-4809578.325537153, -2630379.677485465), {'...   \n",
       "4217294  [((-4809058.4635151485, -2629753.3673623824), ...   \n",
       "4217295  [((-4808859.513321203, -2630283.642352637), {'...   \n",
       "4217297  [((-4809757.683500719, -2629688.6168069984), {...   \n",
       "4217298  [((-4809195.063662301, -2629621.6174828834), {...   \n",
       "4217299  [((-4809765.498128973, -2629714.9160212325), {...   \n",
       "4217302  [((-4809066.088900268, -2629880.487173095), {'...   \n",
       "4217303  [((-4810545.714176045, -2629856.7148589687), {...   \n",
       "4217308  [((-4810013.339843276, -2629890.753050877), {'...   \n",
       "\n",
       "                                                         1  \n",
       "osm_id                                                      \n",
       "4217292  [((-4809319.763755888, -2630124.935315485), (-...  \n",
       "4217293  [((-4809578.325537153, -2630379.677485465), (-...  \n",
       "4217294  [((-4809055.023742883, -2629696.1256817784), (...  \n",
       "4217295  [((-4808866.003247516, -2630420.234421048), (-...  \n",
       "4217297  [((-4809733.415851726, -2629661.5195919294), (...  \n",
       "4217298  [((-4809095.933655749, -2629588.994558264), (-...  \n",
       "4217299  [((-4809765.498128973, -2629714.9160212325), (...  \n",
       "4217302  [((-4808911.076509338, -2629889.8824461503), (...  \n",
       "4217303  [((-4810545.714176045, -2629856.7148589687), (...  \n",
       "4217308  [((-4809988.704839963, -2629666.670598563), (-...  "
      ]
     },
     "execution_count": 5,
     "metadata": {},
     "output_type": "execute_result"
    }
   ],
   "source": [
    "d = df2.compute()\n",
    "d"
   ]
  },
  {
   "cell_type": "markdown",
   "id": "legitimate-wallet",
   "metadata": {},
   "source": [
    "#### Parallelized Graph Building Approach ####\n",
    "\n",
    "Sequential processing throughput is ~3'700 roads/hour. For the region of 2M+ roads, such compute on the author's old laptop would take ~539 hours. Although different Numba optimizations could be done to enhance performance by x1000 and run the job locally, learning and implementing on top of the time consuming progress thus far is overwhelming and might not be feasible in the remaining timeframe despite being a very attractive improvement\n",
    "\n",
    "This processing step was scaled to the cluster since the task graph requires distributing the 12GB+ of DEM and roads data across workers prior to feeding each road entry into this graph for parallel computation. The author's RAM is 4GB, the remaining is served from SWAP, which is thousands times slower, hence it is not possible to process this particular task graph on the device, yet. Configuration of 3 Skylake nodes on the Genius HPC for a total of 5 hours was used, with a total cost of 150 credits\n",
    "\n",
    "An alternative would be to split the roads data into N partitions and run that on N local processes (where N processes is the 4 hardware threads on the author's laptop) while passing the entire Dask Dataframe as input to each process: hence each process would be running the sequential code below, but each will only have to process 1/4th of the input set"
   ]
  },
  {
   "cell_type": "markdown",
   "id": "rising-accreditation",
   "metadata": {},
   "source": [
    "**TODO: update text after processing on VSC**\n",
    "\n",
    "Using dd.apply() caused serialization/pickling errors: partition mapping approach was attempted instead. This effectively splits task into 24 parallel tasks (equal to #partitions of the roads Dask Dataframe). However, beacuse ```find_intersections``` envokes ```compute()``` on DEM Dask XArray and roads Dask Dataframe, the scheduler becomes overwhelmed with the increasing number of tasks asking to acquire read/write locks to the data as Dask starts a new task for nearly every indexing operation and utilizes only 10% of CPU. Hence it suffocates itself. It was chosen to follow the sequential approach instead to avoid this bottleneck for this seemingly trivially parallelizable task"
   ]
  },
  {
   "cell_type": "code",
   "execution_count": 3,
   "id": "central-worry",
   "metadata": {},
   "outputs": [],
   "source": [
    "def get_neighbors(index, row):\n",
    "    # Query R-Tree by the bounding box of road 'x' for neighbors except itself\n",
    "    return [int(i) for i in index.intersection(wkb.loads(row.bbox).bounds) if int(i) != row.name]\n",
    "\n",
    "\n",
    "def find_intersections(neighbors, row):\n",
    "    intersections = [] # Container for street intersections    \n",
    "    nodes = [] # Arrays of tuples for NetworkX MultiDiGraph\n",
    "    a = wkb.loads(row.geometry)\n",
    "    road = a.coords[:]\n",
    "    \n",
    "    for entry in neighbors.itertuples():\n",
    "        b = wkb.loads(entry.geometry)\n",
    "        if not (entry.bridge or entry.tunnel) and a.intersects(b): # Check if road with 'fid' osm_id actually intersects road 'x'\n",
    "            pts = a.intersection(b)\n",
    "            if pts.type == 'MultiPoint':\n",
    "                (nodes.append((pt.coords[:][0], {'junction':[row.name, entry.Index]})) for pt in pts)\n",
    "                (intersections.append(pt) for pt in pts if pt.coords[:][0] != road[0] and pt.coords[:][0] != road[-1] and (pt.coords[:][0] not in intersections))\n",
    "            elif pts.type == 'Point':\n",
    "                nodes.append((pts.coords[:][0], {'junction':[row.name, entry.Index]}))\n",
    "                if pts.coords[:][0] != road[0] and pts.coords[:][0] != road[-1] and (pts.coords[:][0] not in intersections):\n",
    "                    intersections.append(pts)\n",
    "    \n",
    "    [nodes.append((pt, {'junction':[row.name]})) for pt in [road[0], road[-1]] if not nodes or pt not in tuple(zip(*nodes))[0]]\n",
    "\n",
    "    return nodes, intersections\n",
    "\n",
    "\n",
    "def get_elevation(nodes, a, dem):\n",
    "    b = [pt[0] for pt in nodes] # List coordinates of graph nodes (permits duplication)\n",
    "    \n",
    "    data = dem[tuple([[0]]+list(map(list,zip(*((round((pt[0]-dem.transform[2])/dem.transform[0]), round((pt[1]-dem.transform[5])/dem.transform[4])) for pt in a+b)))))].data[0] # Retrieve elevations for road points and graph nodes\n",
    "    \n",
    "    road_elevations = [data[i][i] for i in range(len(a))] # The first 'a' elements correspond to road points\n",
    "    \n",
    "    for i in range(len(b)):\n",
    "        nodes[i][1]['altitude'] = data[len(a)+i][len(a)+i] # The second 'b' elements correspond to graph nodes\n",
    "    \n",
    "    return nodes, road_elevations\n",
    "\n",
    "\n",
    "def compute_edges(intersections, nodes, road_elevations, row):\n",
    "    road = wkb.loads(row.geometry).coords[:]\n",
    "    edges = []\n",
    "    segment_len = 0\n",
    "    segment_flatness = 0\n",
    "    previous_node_elevation = road_elevations[0]\n",
    "    previous_node = road[0] # Coordinate keeping track of previous intersection/edge end\n",
    "\n",
    "    for idx in range(len(road)-1):\n",
    "        segment = LineString(road[idx:idx+2]) # LineString of straight line segment between two consecutive points\n",
    "        segment_start = road[idx] # Coordinate updating on every segment or when intersection encountered\n",
    "        queue = [] # Point objects that intersect this particular road straight line segment\n",
    "\n",
    "        for pt in list(intersections):\n",
    "            if segment.intersects(pt):\n",
    "                queue.append(pt) # Put all junctions intersecting this segment into a queue\n",
    "                intersections.remove(pt) # Remove the junction from left-over list of street intersections\n",
    "\n",
    "        if not queue:\n",
    "            segment_len += segment.length # If no junctions in this road segment, increase length by distance between LineString consecutive points\n",
    "            next_node_elevation = road_elevations[idx+1]\n",
    "            segment_flatness += (previous_node_elevation - next_node_elevation) ** 2 \n",
    "            previous_node_elevation = next_node_elevation\n",
    "        else:\n",
    "            for pt in list(queue):\n",
    "                line_lengths = [LineString([segment_start, p.coords[:][0]]).length for p in queue]\n",
    "                shortest_line = min(line_lengths)\n",
    "                next_node_idx = [k for k, l in enumerate(line_lengths) if l == shortest_line][0]\n",
    "                next_node = queue[next_node_idx].coords[:][0]\n",
    "                segment_len += LineString([segment_start, next_node]).length\n",
    "\n",
    "                if segment_len: # Multiple roads crossing at the same junction. Can skip. osm_id's on intersectinos are maintained by nodes array\n",
    "                    next_node_elevation = [node[1]['altitude'] for node in nodes if node[0] == next_node][0]\n",
    "                    segment_flatness += (previous_node_elevation - next_node_elevation) ** 2 \n",
    "                    previous_node_elevation = next_node_elevation\n",
    "\n",
    "                    edges.append((\n",
    "                        previous_node,\n",
    "                        next_node,\n",
    "                        {\n",
    "                            'length':segment_len,\n",
    "                            'weight':segment_len/row.maxspeed/1000,\n",
    "                            'flatness':segment_flatness/segment_len\n",
    "                        }))\n",
    "\n",
    "                    if not row.oneway: # If both way street, add identical reverse relation between MultiDiGraph nodes\n",
    "                        edges.append((\n",
    "                            next_node,\n",
    "                            previous_node,                          \n",
    "                            {\n",
    "                                'length':segment_len,\n",
    "                                'weight':segment_len/row.maxspeed/1000,\n",
    "                                'flatness':segment_flatness/segment_len\n",
    "                            }))\n",
    "\n",
    "                segment_len = 0\n",
    "                segment_flatness = 0\n",
    "                previous_node = next_node\n",
    "                segment_start = next_node\n",
    "                queue.remove(queue[next_node_idx]) # Remove the junction from the queue\n",
    "\n",
    "            segment_len += LineString([segment_start, road[idx+1]]).length # Get distance to the endpoint of the segment\n",
    "            next_node_elevation = road_elevations[idx+1]\n",
    "            segment_flatness += (previous_node_elevation - next_node_elevation) ** 2 \n",
    "            previous_node_elevation = next_node_elevation\n",
    "\n",
    "    edges.append((\n",
    "        previous_node,\n",
    "        road[-1],\n",
    "        {\n",
    "            'length':segment_len,\n",
    "            'weight':segment_len/row.maxspeed/1000,\n",
    "            'flatness':segment_flatness/segment_len\n",
    "        }))\n",
    "\n",
    "    if not row.oneway: # If both way street, add identical reverse relation between MultiDiGraph nodes\n",
    "        edges.append((\n",
    "            road[-1],\n",
    "            previous_node,            \n",
    "            {\n",
    "                'length':segment_len,\n",
    "                'weight':segment_len/row.maxspeed/1000,\n",
    "                'flatness':segment_flatness/segment_len\n",
    "            }))\n",
    "        \n",
    "    return edges"
   ]
  },
  {
   "cell_type": "code",
   "execution_count": null,
   "id": "opening-carroll",
   "metadata": {},
   "outputs": [],
   "source": [
    "%%time\n",
    "\n",
    "def foo(row, df, dem, index_url):\n",
    "    fids = []\n",
    "    \n",
    "    # Assumption that bridges and tunnels do not have intersections\n",
    "    if not (row.bridge or row.tunnel): \n",
    "        index = rtree.index.Rtree(index_url)\n",
    "        \n",
    "        # Retreive from R-tree osm_id's of roads whose bounding box overlaps this road's\n",
    "        fids = get_neighbors(index, row)\n",
    "    else:\n",
    "        # If bridge or tunnel, only intersects others at start/end of way\n",
    "        fids = [] \n",
    "\n",
    "    # Retreive those roads from the dataset by indexing\n",
    "    neighbors = df.loc[fids]\n",
    "\n",
    "    # Build up list of Graph nodes and list of intersections\n",
    "    (nodes, intersections) = find_intersections(neighbors, row)\n",
    "\n",
    "    # Retrieves elevation data for all road points and graph nodes\n",
    "    (nodes, road_elevations) = get_elevation(nodes, wkb.loads(row.geometry).coords[:], dem)\n",
    "\n",
    "    # Calculate graph edges between junction nodes\n",
    "    edges = compute_edges(intersections, nodes, road_elevations, row)\n",
    "\n",
    "    return nodes, edges\n",
    "\n",
    "\n",
    "# df[['nodes','edges']] = df.apply( # Process full set\n",
    "df2 = df.loc[4217292:4331539].apply( # Process first 100 roads\n",
    "    foo, \n",
    "    args=(df, dem, index_url), \n",
    "    axis=1, \n",
    "    result_type='expand', \n",
    "    meta={0:'object',1:'object'})\n",
    "\n",
    "# dd.to_parquet(df, './../data/osm_roads/nodes_edges.parquet', engine='pyarrow') # Process full set\n",
    "dd.to_parquet(df2, './../data/osm_roads/nodes_edges.parquet', engine='pyarrow') # Process first 100 roads"
   ]
  },
  {
   "cell_type": "markdown",
   "id": "suited-estonia",
   "metadata": {},
   "source": [
    "After this step, the processed data was pulled from the cluster back into local Jupyter session into the corresponding directory and used in the following reduction step to construct the actual road network multidirectional weighted Graph"
   ]
  },
  {
   "cell_type": "code",
   "execution_count": null,
   "id": "comprehensive-stuff",
   "metadata": {},
   "outputs": [],
   "source": [
    "%%time\n",
    "\n",
    "df = dd.read_parquet('./../data/osm_roads/nodes_edges.parquet', engine='pyarrow')\n",
    "\n",
    "# Reduce futures to a NetworkX Graph as they arrive back with results\n",
    "G = nx.MultiDiGraph()\n",
    "\n",
    "for row in df.itertuples():\n",
    "    if row.nodes and row.edges:\n",
    "        G.add_edges_from(row.edges) # Creates nodes if they do not exist, creates an edge with attributes between them\n",
    "        for node in row.nodes: # Loops over affected new or existing nodes\n",
    "            if 'junction' not in G.nodes[node[0]]:\n",
    "                G.nodes[node[0]]['junction'] = []\n",
    "            if 'altitude' not in G.nodes[node[0]]:\n",
    "                G.nodes[node[0]]['altitude'] = node[1]['altitude']\n",
    "            # Updates their attributes with 'osm_id' of streets causing intersection\n",
    "            (G.nodes[node[0]]['junction'].append(osm_id) for osm_id in node[1]['junction'] if osm_id not in G.nodes[node[0]]['junction'])"
   ]
  },
  {
   "cell_type": "markdown",
   "id": "cubic-solid",
   "metadata": {},
   "source": [
    "#### Sequential Graph Building Approach ####\n",
    "It works successfully, but takes a long time and never completed in previous attempts. The processing throughput is roughly 3'750 roads/hour. For the roads dataset of 2'020'104, sequential Graph building is unacceptably long at roughly 539 hours. Hence parallelization is desparately needed and unlike all previous steps requires the use of a cluster or further optimizations with Numba/Cython"
   ]
  },
  {
   "cell_type": "code",
   "execution_count": 3,
   "id": "documentary-bottom",
   "metadata": {},
   "outputs": [],
   "source": [
    "def get_neighbors(index, row):\n",
    "    # Query R-Tree by the bounding box of road 'x' for neighbors except itself\n",
    "    return [int(i) for i in index.intersection(wkb.loads(row.bbox).bounds) if int(i) != row.Index]\n",
    "\n",
    "\n",
    "def find_intersections(neighbors, row):\n",
    "    intersections = [] # Container for street intersections    \n",
    "    nodes = [] # Arrays of tuples for NetworkX MultiDiGraph\n",
    "    a = wkb.loads(row.geometry)\n",
    "    road = a.coords[:]\n",
    "    \n",
    "    for entry in neighbors.itertuples():\n",
    "        b = wkb.loads(entry.geometry)\n",
    "        if not (entry.bridge or entry.tunnel) and a.intersects(b): # Check if road with 'fid' osm_id actually intersects road 'x'\n",
    "            pts = a.intersection(b)\n",
    "            if pts.type == 'MultiPoint':\n",
    "                (nodes.append((pt.coords[:][0], {'junction':[row.Index, entry.Index]})) for pt in pts)\n",
    "                (intersections.append(pt) for pt in pts if pt.coords[:][0] != road[0] and pt.coords[:][0] != road[-1] and (pt.coords[:][0] not in intersections))\n",
    "            elif pts.type == 'Point':\n",
    "                nodes.append((pts.coords[:][0], {'junction':[row.Index, entry.Index]}))\n",
    "                if pts.coords[:][0] != road[0] and pts.coords[:][0] != road[-1] and (pts.coords[:][0] not in intersections):\n",
    "                    intersections.append(pts)\n",
    "    \n",
    "    [nodes.append((pt, {'junction':[row.Index]})) for pt in [road[0], road[-1]] if not nodes or pt not in tuple(zip(*nodes))[0]]\n",
    "\n",
    "    return nodes, intersections\n",
    "\n",
    "\n",
    "def get_elevation(nodes, a, dem):\n",
    "    b = [pt[0] for pt in nodes] # List coordinates of graph nodes (permits duplication)\n",
    "    \n",
    "    data = dem[tuple([[0]]+list(map(list,zip(*((round((pt[0]-dem.transform[2])/dem.transform[0]), round((pt[1]-dem.transform[5])/dem.transform[4])) for pt in a+b)))))].data[0].compute() # Retrieve elevations for road points and graph nodes\n",
    "    \n",
    "    road_elevations = [data[i][i] for i in range(len(a))] # The first 'a' elements correspond to road points\n",
    "    \n",
    "    for i in range(len(b)):\n",
    "        nodes[i][1]['altitude'] = data[len(a)+i][len(a)+i] # The second 'b' elements correspond to graph nodes\n",
    "    \n",
    "    return nodes, road_elevations\n",
    "\n",
    "\n",
    "def compute_edges(intersections, nodes, road_elevations, row):\n",
    "    road = wkb.loads(row.geometry).coords[:]\n",
    "    edges = []\n",
    "    segment_len = 0\n",
    "    segment_flatness = 0\n",
    "    previous_node_elevation = road_elevations[0]\n",
    "    previous_node = road[0] # Coordinate keeping track of previous intersection/edge end\n",
    "\n",
    "    for idx in range(len(road)-1):\n",
    "        segment = LineString(road[idx:idx+2]) # LineString of straight line segment between two consecutive points\n",
    "        segment_start = road[idx] # Coordinate updating on every segment or when intersection encountered\n",
    "        queue = [] # Point objects that intersect this particular road straight line segment\n",
    "\n",
    "        for pt in list(intersections):\n",
    "            if segment.intersects(pt):\n",
    "                queue.append(pt) # Put all junctions intersecting this segment into a queue\n",
    "                intersections.remove(pt) # Remove the junction from left-over list of street intersections\n",
    "\n",
    "        if not queue:\n",
    "            segment_len += segment.length # If no junctions in this road segment, increase length by distance between LineString consecutive points\n",
    "            next_node_elevation = road_elevations[idx+1]\n",
    "            segment_flatness += (previous_node_elevation - next_node_elevation) ** 2 \n",
    "            previous_node_elevation = next_node_elevation\n",
    "        else:\n",
    "            for pt in list(queue):\n",
    "                line_lengths = [LineString([segment_start, p.coords[:][0]]).length for p in queue]\n",
    "                shortest_line = min(line_lengths)\n",
    "                next_node_idx = [k for k, l in enumerate(line_lengths) if l == shortest_line][0]\n",
    "                next_node = queue[next_node_idx].coords[:][0]\n",
    "                segment_len += LineString([segment_start, next_node]).length\n",
    "\n",
    "                if segment_len: # Multiple roads crossing at the same junction. Can skip. osm_id's on intersectinos are maintained by nodes array\n",
    "                    next_node_elevation = [node[1]['altitude'] for node in nodes if node[0] == next_node][0]\n",
    "                    segment_flatness += (previous_node_elevation - next_node_elevation) ** 2 \n",
    "                    previous_node_elevation = next_node_elevation\n",
    "\n",
    "                    edges.append((\n",
    "                        previous_node,\n",
    "                        next_node,\n",
    "                        {\n",
    "                            'length':segment_len,\n",
    "                            'weight':segment_len/row.maxspeed/1000,\n",
    "                            'flatness':segment_flatness/segment_len\n",
    "                        }))\n",
    "\n",
    "                    if not row.oneway: # If both way street, add identical reverse relation between MultiDiGraph nodes\n",
    "                        edges.append((\n",
    "                            next_node,\n",
    "                            previous_node,                          \n",
    "                            {\n",
    "                                'length':segment_len,\n",
    "                                'weight':segment_len/row.maxspeed/1000,\n",
    "                                'flatness':segment_flatness/segment_len\n",
    "                            }))\n",
    "\n",
    "                segment_len = 0\n",
    "                segment_flatness = 0\n",
    "                previous_node = next_node\n",
    "                segment_start = next_node\n",
    "                queue.remove(queue[next_node_idx]) # Remove the junction from the queue\n",
    "\n",
    "            segment_len += LineString([segment_start, road[idx+1]]).length # Get distance to the endpoint of the segment\n",
    "            next_node_elevation = road_elevations[idx+1]\n",
    "            segment_flatness += (previous_node_elevation - next_node_elevation) ** 2 \n",
    "            previous_node_elevation = next_node_elevation\n",
    "\n",
    "    edges.append((\n",
    "        previous_node,\n",
    "        road[-1],\n",
    "        {\n",
    "            'length':segment_len,\n",
    "            'weight':segment_len/row.maxspeed/1000,\n",
    "            'flatness':segment_flatness/segment_len\n",
    "        }))\n",
    "\n",
    "    if not row.oneway: # If both way street, add identical reverse relation between MultiDiGraph nodes\n",
    "        edges.append((\n",
    "            road[-1],\n",
    "            previous_node,            \n",
    "            {\n",
    "                'length':segment_len,\n",
    "                'weight':segment_len/row.maxspeed/1000,\n",
    "                'flatness':segment_flatness/segment_len\n",
    "            }))\n",
    "        \n",
    "    return edges"
   ]
  },
  {
   "cell_type": "code",
   "execution_count": null,
   "id": "particular-buffer",
   "metadata": {},
   "outputs": [],
   "source": [
    "%%time\n",
    "\n",
    "G = nx.MultiDiGraph()\n",
    "i=0\n",
    "fids = []\n",
    "\n",
    "# Non-parallelized find_intersections\n",
    "# for row in df.itertuples(): # Process full set\n",
    "for row in df.loc[4217292:4331539].itertuples(): # Process first 100 roads \n",
    "    i+=1\n",
    "    print(f'{i}: {row.Index}')\n",
    "\n",
    "    # Assumption that bridges and tunnels do not have intersections\n",
    "    if not (row.bridge or row.tunnel): \n",
    "        # Retreive from R-tree osm_id's of roads whose bounding box overlaps this road's\n",
    "        fids = get_neighbors(index, row)\n",
    "    else:\n",
    "        # If bridge or tunnel, only intersects others at start/end of way\n",
    "        fids = []\n",
    "\n",
    "    # Retreive those roads from the dataset by indexing\n",
    "    neighbors = df.loc[fids].compute()\n",
    "        \n",
    "    # Build up list of Graph nodes and list of intersections\n",
    "    (nodes, intersections) = find_intersections(neighbors, row)\n",
    "\n",
    "    # Retrieves elevation data for all road points and graph nodes\n",
    "    (nodes, road_elevations) = get_elevation(nodes, wkb.loads(row.geometry).coords[:], dem)\n",
    "\n",
    "    # Calculate graph edges between junction nodes\n",
    "    edges = compute_edges(intersections, nodes, road_elevations, row)\n",
    "    \n",
    "    if edges and nodes:\n",
    "        G.add_edges_from(edges) # Creates nodes if they do not exist, creates an edge with attributes between them\n",
    "        for node in nodes: # Loops over affected new or existing nodes\n",
    "            if 'junction' not in G.nodes[node[0]]:\n",
    "                G.nodes[node[0]]['junction'] = []\n",
    "            if 'altitude' not in G.nodes[node[0]]:\n",
    "                G.nodes[node[0]]['altitude'] = node[1]['altitude']\n",
    "            # Updates their attributes with 'osm_id' of streets causing intersection\n",
    "            [G.nodes[node[0]]['junction'].append(osm_id) for osm_id in node[1]['junction'] if osm_id not in G.nodes[node[0]]['junction']]"
   ]
  },
  {
   "cell_type": "markdown",
   "id": "median-breast",
   "metadata": {},
   "source": [
    "### Graph Visualization and Information ###"
   ]
  },
  {
   "cell_type": "code",
   "execution_count": null,
   "id": "second-strength",
   "metadata": {},
   "outputs": [],
   "source": [
    "for edge in G.edges:\n",
    "    for e in G[edge[0]][edge[1]]:\n",
    "        print(edge[0],edge[1],G[edge[0]][edge[1]][e])\n",
    "        \n",
    "for node in G.nodes:\n",
    "    print(node, G.nodes[node])"
   ]
  },
  {
   "cell_type": "code",
   "execution_count": 25,
   "id": "capable-mandate",
   "metadata": {},
   "outputs": [
    {
     "data": {
      "text/plain": [
       "30"
      ]
     },
     "execution_count": 25,
     "metadata": {},
     "output_type": "execute_result"
    }
   ],
   "source": [
    "len(G.nodes)"
   ]
  },
  {
   "cell_type": "code",
   "execution_count": 4,
   "id": "smooth-relief",
   "metadata": {},
   "outputs": [
    {
     "data": {
      "text/plain": [
       "(1, 2, 3)"
      ]
     },
     "execution_count": 4,
     "metadata": {},
     "output_type": "execute_result"
    }
   ],
   "source": [
    "tuple(zip(*[(1,{}),(2,{}),(3,{})]))[0]"
   ]
  },
  {
   "cell_type": "code",
   "execution_count": 16,
   "id": "official-columbus",
   "metadata": {},
   "outputs": [
    {
     "data": {
      "text/plain": [
       "22595"
      ]
     },
     "execution_count": 16,
     "metadata": {},
     "output_type": "execute_result"
    }
   ],
   "source": [
    "len(G.edges)"
   ]
  },
  {
   "cell_type": "code",
   "execution_count": 17,
   "id": "measured-style",
   "metadata": {},
   "outputs": [
    {
     "data": {
      "image/png": "[encoded data removed]",
      "text/plain": [
       "<Figure size 432x288 with 1 Axes>"
      ]
     },
     "metadata": {},
     "output_type": "display_data"
    }
   ],
   "source": [
    "pos=dict()\n",
    "for node in G.nodes:\n",
    "    pos[node]=node\n",
    "    \n",
    "nx.draw(G, pos=pos)"
   ]
  },
  {
   "cell_type": "code",
   "execution_count": null,
   "id": "compound-genetics",
   "metadata": {},
   "outputs": [],
   "source": [
    "from pyproj import Transformer\n",
    "import folium\n",
    "\n",
    "m = folium.Map(location=[-22.983840,-43.211162], zoom_start=15)\n",
    "\n",
    "transformer = Transformer.from_crs(\"EPSG:3857\",\"EPSG:4326\")\n",
    "\n",
    "for node in G.nodes:\n",
    "    folium.Marker(transformer.transform(*node)).add_to(m)\n",
    "    \n",
    "m"
   ]
  },
  {
   "cell_type": "markdown",
   "id": "accompanied-europe",
   "metadata": {},
   "source": [
    "## Interpolate and Time Syncrhonize ##\n",
    "Load the cleaned dataset for interpolation"
   ]
  },
  {
   "cell_type": "code",
   "execution_count": 4,
   "id": "hollow-upset",
   "metadata": {},
   "outputs": [
    {
     "data": {
      "text/html": [
       "<div>\n",
       "<style scoped>\n",
       "    .dataframe tbody tr th:only-of-type {\n",
       "        vertical-align: middle;\n",
       "    }\n",
       "\n",
       "    .dataframe tbody tr th {\n",
       "        vertical-align: top;\n",
       "    }\n",
       "\n",
       "    .dataframe thead th {\n",
       "        text-align: right;\n",
       "    }\n",
       "</style>\n",
       "<table border=\"1\" class=\"dataframe\">\n",
       "  <thead>\n",
       "    <tr style=\"text-align: right;\">\n",
       "      <th></th>\n",
       "      <th>timestamp</th>\n",
       "      <th>order</th>\n",
       "      <th>line</th>\n",
       "      <th>latitude</th>\n",
       "      <th>longitude</th>\n",
       "      <th>speed</th>\n",
       "    </tr>\n",
       "  </thead>\n",
       "  <tbody>\n",
       "    <tr>\n",
       "      <th>0</th>\n",
       "      <td>2019-01-25 00:03:05</td>\n",
       "      <td>0</td>\n",
       "      <td>0</td>\n",
       "      <td>-22.816891</td>\n",
       "      <td>-43.301788</td>\n",
       "      <td>0.0</td>\n",
       "    </tr>\n",
       "    <tr>\n",
       "      <th>1</th>\n",
       "      <td>2019-01-25 00:07:29</td>\n",
       "      <td>1</td>\n",
       "      <td>1</td>\n",
       "      <td>-22.874250</td>\n",
       "      <td>-43.357971</td>\n",
       "      <td>37.0</td>\n",
       "    </tr>\n",
       "    <tr>\n",
       "      <th>2</th>\n",
       "      <td>2019-01-25 00:07:59</td>\n",
       "      <td>1</td>\n",
       "      <td>1</td>\n",
       "      <td>-22.880329</td>\n",
       "      <td>-43.357670</td>\n",
       "      <td>37.0</td>\n",
       "    </tr>\n",
       "    <tr>\n",
       "      <th>3</th>\n",
       "      <td>2019-01-25 00:17:31</td>\n",
       "      <td>2</td>\n",
       "      <td>2</td>\n",
       "      <td>-22.858509</td>\n",
       "      <td>-43.348221</td>\n",
       "      <td>59.0</td>\n",
       "    </tr>\n",
       "    <tr>\n",
       "      <th>4</th>\n",
       "      <td>2019-01-25 00:19:26</td>\n",
       "      <td>3</td>\n",
       "      <td>3</td>\n",
       "      <td>-22.883600</td>\n",
       "      <td>-43.552929</td>\n",
       "      <td>0.0</td>\n",
       "    </tr>\n",
       "  </tbody>\n",
       "</table>\n",
       "</div>"
      ],
      "text/plain": [
       "            timestamp  order  line   latitude  longitude  speed\n",
       "0 2019-01-25 00:03:05      0     0 -22.816891 -43.301788    0.0\n",
       "1 2019-01-25 00:07:29      1     1 -22.874250 -43.357971   37.0\n",
       "2 2019-01-25 00:07:59      1     1 -22.880329 -43.357670   37.0\n",
       "3 2019-01-25 00:17:31      2     2 -22.858509 -43.348221   59.0\n",
       "4 2019-01-25 00:19:26      3     3 -22.883600 -43.552929    0.0"
      ]
     },
     "execution_count": 4,
     "metadata": {},
     "output_type": "execute_result"
    }
   ],
   "source": [
    "df = dd.read_parquet('./../data/mobility/bus_data_clean.parquet', engine='pyarrow')\n",
    "df.head()"
   ]
  },
  {
   "cell_type": "code",
   "execution_count": 5,
   "id": "breeding-outline",
   "metadata": {},
   "outputs": [
    {
     "name": "stderr",
     "output_type": "stream",
     "text": [
      "distributed.client - ERROR - Failed to reconnect to scheduler after 10.00 seconds, closing client\n",
      "_GatheringFuture exception was never retrieved\n",
      "future: <_GatheringFuture finished exception=CancelledError()>\n",
      "asyncio.exceptions.CancelledError\n"
     ]
    }
   ],
   "source": [
    "client.shutdown()"
   ]
  },
  {
   "cell_type": "code",
   "execution_count": null,
   "id": "given-witness",
   "metadata": {},
   "outputs": [],
   "source": []
  }
 ],
 "metadata": {
  "kernelspec": {
   "display_name": "Python 3",
   "language": "python",
   "name": "python3"
  },
  "language_info": {
   "codemirror_mode": {
    "name": "ipython",
    "version": 3
   },
   "file_extension": ".py",
   "mimetype": "text/x-python",
   "name": "python",
   "nbconvert_exporter": "python",
   "pygments_lexer": "ipython3",
   "version": "3.8.5"
  }
 },
 "nbformat": 4,
 "nbformat_minor": 5
}
