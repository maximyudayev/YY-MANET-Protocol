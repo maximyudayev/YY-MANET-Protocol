{
 "cells": [
  {
   "cell_type": "markdown",
   "id": "extra-submission",
   "metadata": {},
   "source": [
    "# Data Preprocessing"
   ]
  },
  {
   "cell_type": "code",
   "execution_count": 1,
   "id": "technological-bouquet",
   "metadata": {},
   "outputs": [
    {
     "data": {
      "text/html": [
       "<table style=\"border: 2px solid white;\">\n",
       "<tr>\n",
       "<td style=\"vertical-align: top; border: 0px solid white\">\n",
       "<h3 style=\"text-align: left;\">Client</h3>\n",
       "<ul style=\"text-align: left; list-style: none; margin: 0; padding: 0;\">\n",
       "  <li><b>Scheduler: </b>tcp://127.0.0.1:41709</li>\n",
       "  <li><b>Dashboard: </b><a href='http://127.0.0.1:8787/status' target='_blank'>http://127.0.0.1:8787/status</a></li>\n",
       "</ul>\n",
       "</td>\n",
       "<td style=\"vertical-align: top; border: 0px solid white\">\n",
       "<h3 style=\"text-align: left;\">Cluster</h3>\n",
       "<ul style=\"text-align: left; list-style:none; margin: 0; padding: 0;\">\n",
       "  <li><b>Workers: </b>4</li>\n",
       "  <li><b>Cores: </b>4</li>\n",
       "  <li><b>Memory: </b>4.01 GB</li>\n",
       "</ul>\n",
       "</td>\n",
       "</tr>\n",
       "</table>"
      ],
      "text/plain": [
       "<Client: 'tcp://127.0.0.1:41709' processes=4 threads=4, memory=4.01 GB>"
      ]
     },
     "execution_count": 1,
     "metadata": {},
     "output_type": "execute_result"
    }
   ],
   "source": [
    "from dask.distributed import Client\n",
    "import dask.dataframe as dd\n",
    "import time\n",
    "\n",
    "client = Client()\n",
    "client"
   ]
  },
  {
   "cell_type": "markdown",
   "id": "tropical-leadership",
   "metadata": {},
   "source": [
    "## Convert Dataset Type ##\n",
    "Convert bus CSV data to Parquet for more efficient operations on raw data"
   ]
  },
  {
   "cell_type": "code",
   "execution_count": null,
   "id": "about-raising",
   "metadata": {},
   "outputs": [],
   "source": [
    "df = dd.read_csv('./../data/mobility/bus_data.csv')\n",
    "dd.to_parquet(df, './../data/mobility/bus_data.parquet', engine='pyarrow')"
   ]
  },
  {
   "cell_type": "code",
   "execution_count": null,
   "id": "attached-shadow",
   "metadata": {},
   "outputs": [],
   "source": [
    "!pwd\n",
    "!ls ./../data/mobility/bus_data.parquet/"
   ]
  },
  {
   "cell_type": "markdown",
   "id": "supported-angel",
   "metadata": {},
   "source": [
    "## Create 'timestamp' Index Column ##\n",
    "Read the Parquet files back lazily as Dask.DataFrame and make a 'timestamp' column"
   ]
  },
  {
   "cell_type": "code",
   "execution_count": 2,
   "id": "concerned-stability",
   "metadata": {},
   "outputs": [
    {
     "data": {
      "text/html": [
       "<div><strong>Dask DataFrame Structure:</strong></div>\n",
       "<div>\n",
       "<style scoped>\n",
       "    .dataframe tbody tr th:only-of-type {\n",
       "        vertical-align: middle;\n",
       "    }\n",
       "\n",
       "    .dataframe tbody tr th {\n",
       "        vertical-align: top;\n",
       "    }\n",
       "\n",
       "    .dataframe thead th {\n",
       "        text-align: right;\n",
       "    }\n",
       "</style>\n",
       "<table border=\"1\" class=\"dataframe\">\n",
       "  <thead>\n",
       "    <tr style=\"text-align: right;\">\n",
       "      <th></th>\n",
       "      <th>date</th>\n",
       "      <th>time</th>\n",
       "      <th>order</th>\n",
       "      <th>line</th>\n",
       "      <th>latitude</th>\n",
       "      <th>longitude</th>\n",
       "      <th>speed</th>\n",
       "      <th>timestamp</th>\n",
       "    </tr>\n",
       "    <tr>\n",
       "      <th>npartitions=199</th>\n",
       "      <th></th>\n",
       "      <th></th>\n",
       "      <th></th>\n",
       "      <th></th>\n",
       "      <th></th>\n",
       "      <th></th>\n",
       "      <th></th>\n",
       "      <th></th>\n",
       "    </tr>\n",
       "  </thead>\n",
       "  <tbody>\n",
       "    <tr>\n",
       "      <th></th>\n",
       "      <td>object</td>\n",
       "      <td>object</td>\n",
       "      <td>object</td>\n",
       "      <td>object</td>\n",
       "      <td>float64</td>\n",
       "      <td>float64</td>\n",
       "      <td>float64</td>\n",
       "      <td>datetime64[ns]</td>\n",
       "    </tr>\n",
       "    <tr>\n",
       "      <th></th>\n",
       "      <td>...</td>\n",
       "      <td>...</td>\n",
       "      <td>...</td>\n",
       "      <td>...</td>\n",
       "      <td>...</td>\n",
       "      <td>...</td>\n",
       "      <td>...</td>\n",
       "      <td>...</td>\n",
       "    </tr>\n",
       "    <tr>\n",
       "      <th>...</th>\n",
       "      <td>...</td>\n",
       "      <td>...</td>\n",
       "      <td>...</td>\n",
       "      <td>...</td>\n",
       "      <td>...</td>\n",
       "      <td>...</td>\n",
       "      <td>...</td>\n",
       "      <td>...</td>\n",
       "    </tr>\n",
       "    <tr>\n",
       "      <th></th>\n",
       "      <td>...</td>\n",
       "      <td>...</td>\n",
       "      <td>...</td>\n",
       "      <td>...</td>\n",
       "      <td>...</td>\n",
       "      <td>...</td>\n",
       "      <td>...</td>\n",
       "      <td>...</td>\n",
       "    </tr>\n",
       "    <tr>\n",
       "      <th></th>\n",
       "      <td>...</td>\n",
       "      <td>...</td>\n",
       "      <td>...</td>\n",
       "      <td>...</td>\n",
       "      <td>...</td>\n",
       "      <td>...</td>\n",
       "      <td>...</td>\n",
       "      <td>...</td>\n",
       "    </tr>\n",
       "  </tbody>\n",
       "</table>\n",
       "</div>\n",
       "<div>Dask Name: assign, 1393 tasks</div>"
      ],
      "text/plain": [
       "Dask DataFrame Structure:\n",
       "                   date    time   order    line latitude longitude    speed       timestamp\n",
       "npartitions=199                                                                            \n",
       "                 object  object  object  object  float64   float64  float64  datetime64[ns]\n",
       "                    ...     ...     ...     ...      ...       ...      ...             ...\n",
       "...                 ...     ...     ...     ...      ...       ...      ...             ...\n",
       "                    ...     ...     ...     ...      ...       ...      ...             ...\n",
       "                    ...     ...     ...     ...      ...       ...      ...             ...\n",
       "Dask Name: assign, 1393 tasks"
      ]
     },
     "execution_count": 2,
     "metadata": {},
     "output_type": "execute_result"
    }
   ],
   "source": [
    "df = dd.read_parquet('./../data/mobility/bus_data.parquet', engine='pyarrow')\n",
    "df['timestamp'] = dd.to_datetime(df['date'] + ' ' + df['time'])\n",
    "df"
   ]
  },
  {
   "cell_type": "markdown",
   "id": "extra-middle",
   "metadata": {},
   "source": [
    "## Numify 'order' and 'line' ##\n",
    "Find unique bus route names and bus license plate numbers and write them to a CSV file"
   ]
  },
  {
   "cell_type": "code",
   "execution_count": null,
   "id": "original-destruction",
   "metadata": {},
   "outputs": [],
   "source": [
    "orders = df['order'].unique()\n",
    "lines = df['line'].unique()"
   ]
  },
  {
   "cell_type": "code",
   "execution_count": null,
   "id": "juvenile-think",
   "metadata": {},
   "outputs": [],
   "source": [
    "orders.to_csv('./../data/mobility/orders.csv')\n",
    "lines.to_csv('./../data/mobility/lines.csv')"
   ]
  },
  {
   "cell_type": "markdown",
   "id": "outstanding-wheat",
   "metadata": {},
   "source": [
    "Bring 'orders' and 'lines' sets back in the workspace as lists"
   ]
  },
  {
   "cell_type": "code",
   "execution_count": 3,
   "id": "organized-constitution",
   "metadata": {},
   "outputs": [],
   "source": [
    "orders_csv = dd.read_csv('./../data/mobility/orders.csv/0.part').compute()\n",
    "lines_csv = dd.read_csv('./../data/mobility/lines.csv/0.part').compute()\n",
    "\n",
    "orders = orders_csv['order'].values.tolist()\n",
    "lines = lines_csv['line'].values.tolist()"
   ]
  },
  {
   "cell_type": "markdown",
   "id": "controversial-advertising",
   "metadata": {},
   "source": [
    "Map element-wise the Dask.DataFrame of bus data to numify order/line information"
   ]
  },
  {
   "cell_type": "code",
   "execution_count": 4,
   "id": "parliamentary-trailer",
   "metadata": {},
   "outputs": [],
   "source": [
    "df_new = df[['timestamp','order','line','latitude','longitude','speed']]\n",
    "df_new['order'] = df['order'].map(lambda x: orders.index(x), meta=('order','int'))\n",
    "df_new['line'] = df['line'].map(lambda x: lines.index(x), meta=('line','int'))"
   ]
  },
  {
   "cell_type": "markdown",
   "id": "specific-celebration",
   "metadata": {},
   "source": [
    "Write the transformed data into a parquet file"
   ]
  },
  {
   "cell_type": "code",
   "execution_count": null,
   "id": "comparative-vanilla",
   "metadata": {
    "scrolled": true
   },
   "outputs": [],
   "source": [
    "dd.to_parquet(df_new, './../data/mobility/bus_data_clean.parquet', engine='pyarrow')"
   ]
  },
  {
   "cell_type": "markdown",
   "id": "statutory-reference",
   "metadata": {},
   "source": [
    "Remove no longer needed variables from the workspace to free up memory"
   ]
  },
  {
   "cell_type": "code",
   "execution_count": null,
   "id": "innovative-franklin",
   "metadata": {},
   "outputs": [],
   "source": [
    "del orders, lines, orders_csv, lines_csv, df_new, df"
   ]
  },
  {
   "cell_type": "markdown",
   "id": "generous-inflation",
   "metadata": {},
   "source": [
    "## Interpolate and Time Syncrhonize ##\n",
    "Load the cleaned dataset for interpolation"
   ]
  },
  {
   "cell_type": "code",
   "execution_count": 4,
   "id": "american-challenge",
   "metadata": {},
   "outputs": [
    {
     "data": {
      "text/html": [
       "<div>\n",
       "<style scoped>\n",
       "    .dataframe tbody tr th:only-of-type {\n",
       "        vertical-align: middle;\n",
       "    }\n",
       "\n",
       "    .dataframe tbody tr th {\n",
       "        vertical-align: top;\n",
       "    }\n",
       "\n",
       "    .dataframe thead th {\n",
       "        text-align: right;\n",
       "    }\n",
       "</style>\n",
       "<table border=\"1\" class=\"dataframe\">\n",
       "  <thead>\n",
       "    <tr style=\"text-align: right;\">\n",
       "      <th></th>\n",
       "      <th>timestamp</th>\n",
       "      <th>order</th>\n",
       "      <th>line</th>\n",
       "      <th>latitude</th>\n",
       "      <th>longitude</th>\n",
       "      <th>speed</th>\n",
       "    </tr>\n",
       "  </thead>\n",
       "  <tbody>\n",
       "    <tr>\n",
       "      <th>0</th>\n",
       "      <td>2019-01-25 00:03:05</td>\n",
       "      <td>0</td>\n",
       "      <td>0</td>\n",
       "      <td>-22.816891</td>\n",
       "      <td>-43.301788</td>\n",
       "      <td>0.0</td>\n",
       "    </tr>\n",
       "    <tr>\n",
       "      <th>1</th>\n",
       "      <td>2019-01-25 00:07:29</td>\n",
       "      <td>1</td>\n",
       "      <td>1</td>\n",
       "      <td>-22.874250</td>\n",
       "      <td>-43.357971</td>\n",
       "      <td>37.0</td>\n",
       "    </tr>\n",
       "    <tr>\n",
       "      <th>2</th>\n",
       "      <td>2019-01-25 00:07:59</td>\n",
       "      <td>1</td>\n",
       "      <td>1</td>\n",
       "      <td>-22.880329</td>\n",
       "      <td>-43.357670</td>\n",
       "      <td>37.0</td>\n",
       "    </tr>\n",
       "    <tr>\n",
       "      <th>3</th>\n",
       "      <td>2019-01-25 00:17:31</td>\n",
       "      <td>2</td>\n",
       "      <td>2</td>\n",
       "      <td>-22.858509</td>\n",
       "      <td>-43.348221</td>\n",
       "      <td>59.0</td>\n",
       "    </tr>\n",
       "    <tr>\n",
       "      <th>4</th>\n",
       "      <td>2019-01-25 00:19:26</td>\n",
       "      <td>3</td>\n",
       "      <td>3</td>\n",
       "      <td>-22.883600</td>\n",
       "      <td>-43.552929</td>\n",
       "      <td>0.0</td>\n",
       "    </tr>\n",
       "  </tbody>\n",
       "</table>\n",
       "</div>"
      ],
      "text/plain": [
       "            timestamp  order  line   latitude  longitude  speed\n",
       "0 2019-01-25 00:03:05      0     0 -22.816891 -43.301788    0.0\n",
       "1 2019-01-25 00:07:29      1     1 -22.874250 -43.357971   37.0\n",
       "2 2019-01-25 00:07:59      1     1 -22.880329 -43.357670   37.0\n",
       "3 2019-01-25 00:17:31      2     2 -22.858509 -43.348221   59.0\n",
       "4 2019-01-25 00:19:26      3     3 -22.883600 -43.552929    0.0"
      ]
     },
     "execution_count": 4,
     "metadata": {},
     "output_type": "execute_result"
    }
   ],
   "source": [
    "df = dd.read_parquet('./../data/mobility/bus_data_clean.parquet', engine='pyarrow')\n",
    "df.head()"
   ]
  },
  {
   "cell_type": "markdown",
   "id": "unexpected-personality",
   "metadata": {},
   "source": [
    "## Cleaned Data ##\n",
    "Shapefile has a singly-linked list structure, while .shx has an array structure: each row entry of both correspond to the same record\n",
    "\n",
    "```fiona``` takes advantage of the .shx accompanying file to offset into the binary .shp without parsing the entire set row-by-row \n",
    "\n",
    "```GeoPandas``` wraps ```fiona``` in its ```geopandas.read_file()``` producing an in-memory ```GeoDataFrame```"
   ]
  },
  {
   "cell_type": "code",
   "execution_count": 7,
   "id": "decreased-channels",
   "metadata": {},
   "outputs": [
    {
     "data": {
      "text/html": [
       "<table style=\"border: 2px solid white;\">\n",
       "<tr>\n",
       "<td style=\"vertical-align: top; border: 0px solid white\">\n",
       "<h3 style=\"text-align: left;\">Client</h3>\n",
       "<ul style=\"text-align: left; list-style: none; margin: 0; padding: 0;\">\n",
       "  <li><b>Scheduler: </b>tcp://127.0.0.1:45157</li>\n",
       "  <li><b>Dashboard: </b><a href='http://127.0.0.1:8787/status' target='_blank'>http://127.0.0.1:8787/status</a></li>\n",
       "</ul>\n",
       "</td>\n",
       "<td style=\"vertical-align: top; border: 0px solid white\">\n",
       "<h3 style=\"text-align: left;\">Cluster</h3>\n",
       "<ul style=\"text-align: left; list-style:none; margin: 0; padding: 0;\">\n",
       "  <li><b>Workers: </b>4</li>\n",
       "  <li><b>Cores: </b>4</li>\n",
       "  <li><b>Memory: </b>4.01 GB</li>\n",
       "</ul>\n",
       "</td>\n",
       "</tr>\n",
       "</table>"
      ],
      "text/plain": [
       "<Client: 'tcp://127.0.0.1:45157' processes=4 threads=4, memory=4.01 GB>"
      ]
     },
     "execution_count": 7,
     "metadata": {},
     "output_type": "execute_result"
    }
   ],
   "source": [
    "from dask.distributed import Client\n",
    "import dask.dataframe as dd\n",
    "\n",
    "client = Client()\n",
    "client"
   ]
  },
  {
   "cell_type": "code",
   "execution_count": 4,
   "id": "pacific-belly",
   "metadata": {},
   "outputs": [],
   "source": [
    "import geopandas\n",
    "import dask_geopandas\n",
    "from dask.delayed import delayed\n",
    "from shapely.geometry import LineString, Polygon, box\n",
    "from shapely import wkb"
   ]
  },
  {
   "cell_type": "markdown",
   "id": "ecological-samuel",
   "metadata": {},
   "source": [
    "Using ```Dask and GeoPandas```, read in ESRI Shapefile in partitions and construct a Dask Dataframe out of it, according to a neat prototype of Joris [geopandas/dask-geopandas#11](https://github.com/geopandas/dask-geopandas/issues/11#issue-638156319)"
   ]
  },
  {
   "cell_type": "code",
   "execution_count": 37,
   "id": "effective-toronto",
   "metadata": {
    "scrolled": true
   },
   "outputs": [],
   "source": [
    "def read_file(path, npartitions):\n",
    "    \n",
    "    with fiona.open(path) as collection:\n",
    "        total_size = collection.session.get_length()\n",
    "    \n",
    "    # TODO smart inference for a good default partition size\n",
    "    batch_size = (total_size // npartitions) + 1\n",
    "    \n",
    "    row_offset = 0\n",
    "    dfs = []\n",
    "    \n",
    "    while row_offset < total_size:\n",
    "        rows = slice(row_offset, min(row_offset + batch_size, total_size))\n",
    "        df = delayed(geopandas.read_file)(path, rows=rows)\n",
    "        df1 = delayed(df.to_crs)(3857)\n",
    "        dfs.append(df1)\n",
    "        row_offset += batch_size\n",
    "    \n",
    "    # TODO this could be inferred from fiona's collection.meta[\"schema\"]\n",
    "    meta = geopandas.read_file(path, rows=5)\n",
    "    \n",
    "    return dd.from_delayed(dfs, meta)"
   ]
  },
  {
   "cell_type": "markdown",
   "id": "collectible-productivity",
   "metadata": {},
   "source": [
    "```dask-geopandas``` manages the interpretation of the produced Dask GeoDataFrame and writes ```Shapely``` geometry as bytes for the later consumption"
   ]
  },
  {
   "cell_type": "code",
   "execution_count": 40,
   "id": "furnished-overview",
   "metadata": {},
   "outputs": [
    {
     "data": {
      "text/html": [
       "<div><strong>Dask-GeoPandas GeoDataFrame Structure:</strong></div>\n",
       "<div>\n",
       "<style scoped>\n",
       "    .dataframe tbody tr th:only-of-type {\n",
       "        vertical-align: middle;\n",
       "    }\n",
       "\n",
       "    .dataframe tbody tr th {\n",
       "        vertical-align: top;\n",
       "    }\n",
       "\n",
       "    .dataframe thead th {\n",
       "        text-align: right;\n",
       "    }\n",
       "</style>\n",
       "<table border=\"1\" class=\"dataframe\">\n",
       "  <thead>\n",
       "    <tr style=\"text-align: right;\">\n",
       "      <th></th>\n",
       "      <th>osm_id</th>\n",
       "      <th>code</th>\n",
       "      <th>fclass</th>\n",
       "      <th>name</th>\n",
       "      <th>ref</th>\n",
       "      <th>oneway</th>\n",
       "      <th>maxspeed</th>\n",
       "      <th>layer</th>\n",
       "      <th>bridge</th>\n",
       "      <th>tunnel</th>\n",
       "      <th>geometry</th>\n",
       "    </tr>\n",
       "    <tr>\n",
       "      <th>npartitions=24</th>\n",
       "      <th></th>\n",
       "      <th></th>\n",
       "      <th></th>\n",
       "      <th></th>\n",
       "      <th></th>\n",
       "      <th></th>\n",
       "      <th></th>\n",
       "      <th></th>\n",
       "      <th></th>\n",
       "      <th></th>\n",
       "      <th></th>\n",
       "    </tr>\n",
       "  </thead>\n",
       "  <tbody>\n",
       "    <tr>\n",
       "      <th></th>\n",
       "      <td>object</td>\n",
       "      <td>int64</td>\n",
       "      <td>object</td>\n",
       "      <td>object</td>\n",
       "      <td>object</td>\n",
       "      <td>object</td>\n",
       "      <td>int64</td>\n",
       "      <td>int64</td>\n",
       "      <td>object</td>\n",
       "      <td>object</td>\n",
       "      <td>geometry</td>\n",
       "    </tr>\n",
       "    <tr>\n",
       "      <th></th>\n",
       "      <td>...</td>\n",
       "      <td>...</td>\n",
       "      <td>...</td>\n",
       "      <td>...</td>\n",
       "      <td>...</td>\n",
       "      <td>...</td>\n",
       "      <td>...</td>\n",
       "      <td>...</td>\n",
       "      <td>...</td>\n",
       "      <td>...</td>\n",
       "      <td>...</td>\n",
       "    </tr>\n",
       "    <tr>\n",
       "      <th>...</th>\n",
       "      <td>...</td>\n",
       "      <td>...</td>\n",
       "      <td>...</td>\n",
       "      <td>...</td>\n",
       "      <td>...</td>\n",
       "      <td>...</td>\n",
       "      <td>...</td>\n",
       "      <td>...</td>\n",
       "      <td>...</td>\n",
       "      <td>...</td>\n",
       "      <td>...</td>\n",
       "    </tr>\n",
       "    <tr>\n",
       "      <th></th>\n",
       "      <td>...</td>\n",
       "      <td>...</td>\n",
       "      <td>...</td>\n",
       "      <td>...</td>\n",
       "      <td>...</td>\n",
       "      <td>...</td>\n",
       "      <td>...</td>\n",
       "      <td>...</td>\n",
       "      <td>...</td>\n",
       "      <td>...</td>\n",
       "      <td>...</td>\n",
       "    </tr>\n",
       "    <tr>\n",
       "      <th></th>\n",
       "      <td>...</td>\n",
       "      <td>...</td>\n",
       "      <td>...</td>\n",
       "      <td>...</td>\n",
       "      <td>...</td>\n",
       "      <td>...</td>\n",
       "      <td>...</td>\n",
       "      <td>...</td>\n",
       "      <td>...</td>\n",
       "      <td>...</td>\n",
       "      <td>...</td>\n",
       "    </tr>\n",
       "  </tbody>\n",
       "</table>\n",
       "</div>\n",
       "<div>Dask Name: GeoDataFrame, 96 tasks</div>"
      ],
      "text/plain": [
       "<dask_geopandas.GeoDataFrame | 96 tasks | 24 npartitions>"
      ]
     },
     "execution_count": 40,
     "metadata": {},
     "output_type": "execute_result"
    }
   ],
   "source": [
    "gdf = read_file('./../data/osm_roads/gis_osm_roads_free_1.shp', 24)\n",
    "ddf = dask_geopandas.from_dask_dataframe(gdf)\n",
    "ddf"
   ]
  },
  {
   "cell_type": "code",
   "execution_count": 41,
   "id": "welcome-banana",
   "metadata": {},
   "outputs": [],
   "source": [
    "ddf.to_parquet('./../data/osm_roads/roads.parquet')"
   ]
  },
  {
   "cell_type": "markdown",
   "id": "religious-criminal",
   "metadata": {},
   "source": [
    "For efficient geospatial queries of the road network dataset, R\\*-tree is employed. It facilitates retreival of entries corresponding to the space of interest with complexity: ![](https://latex.codecogs.com/svg.latex?O(\\log_M%20N))\n",
    "\n",
    "The R\\*-tree is composed of roads' bounding boxes, hence another step of processing of the converted Parquet data is required to precalculate it and clean up boolean and integer data from the original GEOFABRIK data"
   ]
  },
  {
   "cell_type": "code",
   "execution_count": null,
   "id": "automatic-volunteer",
   "metadata": {
    "scrolled": true
   },
   "outputs": [],
   "source": [
    "import pandas as pd\n",
    "\n",
    "def speed_limit(limit, code):\n",
    "    if limit == 0:\n",
    "        if code in [5141, 5142, 5143, 5144, 5145, 5146, 5147]: # Track/access roads, typically gravel or field\n",
    "            return 10\n",
    "        elif code in [5121, 5122, 5123, 5133, 5134, 5135]: # Minor roads and their links\n",
    "            return 30\n",
    "        elif code in [5113, 5114, 5115, 5131, 5132]: # Primary roads, their links and links of major highways\n",
    "            return 60\n",
    "        elif code in [5112]: # Urban highway\n",
    "            return 80\n",
    "        elif code in [5111]: # Suburban highway\n",
    "            return 110\n",
    "        else:\n",
    "            return 0\n",
    "    else:\n",
    "        return limit\n",
    "\n",
    "df = dd.read_parquet('./../data/osm_roads/roads.parquet', engine='pyarrow')\n",
    "\n",
    "meta = {\n",
    "    'bbox':'bytes',\n",
    "    'oneway':'bool',\n",
    "    'bridge':'bool',\n",
    "    'tunnel':'bool',\n",
    "    'geometry':'bytes',\n",
    "    'maxspeed':'int'\n",
    "}\n",
    "\n",
    "index = [\n",
    "    'bbox',\n",
    "    'oneway',\n",
    "    'bridge',\n",
    "    'tunnel',\n",
    "    'geometry',\n",
    "    'maxspeed'\n",
    "]\n",
    "\n",
    "df[['bbox','oneway','bridge','tunnel','geometry','maxspeed']] = df.apply(\n",
    "    lambda x: pd.Series([\n",
    "        box(*wkb.loads(x.geometry).bounds).wkb,\n",
    "        x.oneway != 'B',\n",
    "        x.bridge == 'T',\n",
    "        x.tunnel == 'T',\n",
    "        LineString(wkb.loads(x.geometry).coords[:].reverse()).wkb if x.oneway == 'T' else x.geometry,\n",
    "        speed_limit(x.maxspeed, x.code)\n",
    "    ], index=index),\n",
    "    axis=1,\n",
    "    meta=meta)\n",
    "\n",
    "df = df.astype({'osm_id':'int'})\n",
    "df2 = df[df.maxspeed > 0].set_index('osm_id')"
   ]
  },
  {
   "cell_type": "code",
   "execution_count": null,
   "id": "hearing-gazette",
   "metadata": {
    "scrolled": true
   },
   "outputs": [],
   "source": [
    "dd.to_parquet(df2, './../data/osm_roads/roads_new.parquet', engine='pyarrow')"
   ]
  },
  {
   "cell_type": "code",
   "execution_count": 8,
   "id": "optical-insulation",
   "metadata": {},
   "outputs": [
    {
     "data": {
      "text/html": [
       "<div>\n",
       "<style scoped>\n",
       "    .dataframe tbody tr th:only-of-type {\n",
       "        vertical-align: middle;\n",
       "    }\n",
       "\n",
       "    .dataframe tbody tr th {\n",
       "        vertical-align: top;\n",
       "    }\n",
       "\n",
       "    .dataframe thead th {\n",
       "        text-align: right;\n",
       "    }\n",
       "</style>\n",
       "<table border=\"1\" class=\"dataframe\">\n",
       "  <thead>\n",
       "    <tr style=\"text-align: right;\">\n",
       "      <th></th>\n",
       "      <th>code</th>\n",
       "      <th>fclass</th>\n",
       "      <th>name</th>\n",
       "      <th>ref</th>\n",
       "      <th>oneway</th>\n",
       "      <th>maxspeed</th>\n",
       "      <th>layer</th>\n",
       "      <th>bridge</th>\n",
       "      <th>tunnel</th>\n",
       "      <th>geometry</th>\n",
       "      <th>bbox</th>\n",
       "    </tr>\n",
       "    <tr>\n",
       "      <th>osm_id</th>\n",
       "      <th></th>\n",
       "      <th></th>\n",
       "      <th></th>\n",
       "      <th></th>\n",
       "      <th></th>\n",
       "      <th></th>\n",
       "      <th></th>\n",
       "      <th></th>\n",
       "      <th></th>\n",
       "      <th></th>\n",
       "      <th></th>\n",
       "    </tr>\n",
       "  </thead>\n",
       "  <tbody>\n",
       "    <tr>\n",
       "      <th>4217292</th>\n",
       "      <td>5122</td>\n",
       "      <td>residential</td>\n",
       "      <td>Rua Vinícius de Moraes</td>\n",
       "      <td>None</td>\n",
       "      <td>True</td>\n",
       "      <td>30</td>\n",
       "      <td>0</td>\n",
       "      <td>False</td>\n",
       "      <td>False</td>\n",
       "      <td>b'\\x01\\x02\\x00\\x00\\x00\\r\\x00\\x00\\x00``\\xe1\\xf0...</td>\n",
       "      <td>b'\\x01\\x03\\x00\\x00\\x00\\x01\\x00\\x00\\x00\\x05\\x00...</td>\n",
       "    </tr>\n",
       "    <tr>\n",
       "      <th>4217293</th>\n",
       "      <td>5122</td>\n",
       "      <td>residential</td>\n",
       "      <td>Rua Joana Angélica</td>\n",
       "      <td>None</td>\n",
       "      <td>True</td>\n",
       "      <td>30</td>\n",
       "      <td>0</td>\n",
       "      <td>False</td>\n",
       "      <td>False</td>\n",
       "      <td>b'\\x01\\x02\\x00\\x00\\x00\\x13\\x00\\x00\\x00\\xc8\\x99...</td>\n",
       "      <td>b'\\x01\\x03\\x00\\x00\\x00\\x01\\x00\\x00\\x00\\x05\\x00...</td>\n",
       "    </tr>\n",
       "    <tr>\n",
       "      <th>4217294</th>\n",
       "      <td>5122</td>\n",
       "      <td>residential</td>\n",
       "      <td>Rua Farme de Amoedo</td>\n",
       "      <td>None</td>\n",
       "      <td>False</td>\n",
       "      <td>30</td>\n",
       "      <td>0</td>\n",
       "      <td>False</td>\n",
       "      <td>False</td>\n",
       "      <td>b'\\x01\\x02\\x00\\x00\\x00\\x02\\x00\\x00\\x00\\xde\\x00...</td>\n",
       "      <td>b'\\x01\\x03\\x00\\x00\\x00\\x01\\x00\\x00\\x00\\x05\\x00...</td>\n",
       "    </tr>\n",
       "    <tr>\n",
       "      <th>4217295</th>\n",
       "      <td>5122</td>\n",
       "      <td>residential</td>\n",
       "      <td>Rua Teixeira de Melo</td>\n",
       "      <td>None</td>\n",
       "      <td>True</td>\n",
       "      <td>30</td>\n",
       "      <td>0</td>\n",
       "      <td>False</td>\n",
       "      <td>False</td>\n",
       "      <td>b'\\x01\\x02\\x00\\x00\\x00\\x03\\x00\\x00\\x00\\x1255\\x...</td>\n",
       "      <td>b'\\x01\\x03\\x00\\x00\\x00\\x01\\x00\\x00\\x00\\x05\\x00...</td>\n",
       "    </tr>\n",
       "    <tr>\n",
       "      <th>4217297</th>\n",
       "      <td>5122</td>\n",
       "      <td>residential</td>\n",
       "      <td>Rua Maria Quitéria</td>\n",
       "      <td>None</td>\n",
       "      <td>True</td>\n",
       "      <td>30</td>\n",
       "      <td>0</td>\n",
       "      <td>False</td>\n",
       "      <td>False</td>\n",
       "      <td>b\"\\x01\\x02\\x00\\x00\\x00\\x10\\x00\\x00\\x00\\x8fP\\x9...</td>\n",
       "      <td>b'\\x01\\x03\\x00\\x00\\x00\\x01\\x00\\x00\\x00\\x05\\x00...</td>\n",
       "    </tr>\n",
       "  </tbody>\n",
       "</table>\n",
       "</div>"
      ],
      "text/plain": [
       "         code       fclass                    name   ref  oneway  maxspeed  \\\n",
       "osm_id                                                                       \n",
       "4217292  5122  residential  Rua Vinícius de Moraes  None    True        30   \n",
       "4217293  5122  residential      Rua Joana Angélica  None    True        30   \n",
       "4217294  5122  residential     Rua Farme de Amoedo  None   False        30   \n",
       "4217295  5122  residential    Rua Teixeira de Melo  None    True        30   \n",
       "4217297  5122  residential      Rua Maria Quitéria  None    True        30   \n",
       "\n",
       "         layer  bridge  tunnel  \\\n",
       "osm_id                           \n",
       "4217292      0   False   False   \n",
       "4217293      0   False   False   \n",
       "4217294      0   False   False   \n",
       "4217295      0   False   False   \n",
       "4217297      0   False   False   \n",
       "\n",
       "                                                  geometry  \\\n",
       "osm_id                                                       \n",
       "4217292  b'\\x01\\x02\\x00\\x00\\x00\\r\\x00\\x00\\x00``\\xe1\\xf0...   \n",
       "4217293  b'\\x01\\x02\\x00\\x00\\x00\\x13\\x00\\x00\\x00\\xc8\\x99...   \n",
       "4217294  b'\\x01\\x02\\x00\\x00\\x00\\x02\\x00\\x00\\x00\\xde\\x00...   \n",
       "4217295  b'\\x01\\x02\\x00\\x00\\x00\\x03\\x00\\x00\\x00\\x1255\\x...   \n",
       "4217297  b\"\\x01\\x02\\x00\\x00\\x00\\x10\\x00\\x00\\x00\\x8fP\\x9...   \n",
       "\n",
       "                                                      bbox  \n",
       "osm_id                                                      \n",
       "4217292  b'\\x01\\x03\\x00\\x00\\x00\\x01\\x00\\x00\\x00\\x05\\x00...  \n",
       "4217293  b'\\x01\\x03\\x00\\x00\\x00\\x01\\x00\\x00\\x00\\x05\\x00...  \n",
       "4217294  b'\\x01\\x03\\x00\\x00\\x00\\x01\\x00\\x00\\x00\\x05\\x00...  \n",
       "4217295  b'\\x01\\x03\\x00\\x00\\x00\\x01\\x00\\x00\\x00\\x05\\x00...  \n",
       "4217297  b'\\x01\\x03\\x00\\x00\\x00\\x01\\x00\\x00\\x00\\x05\\x00...  "
      ]
     },
     "execution_count": 8,
     "metadata": {},
     "output_type": "execute_result"
    }
   ],
   "source": [
    "df = dd.read_parquet('./../data/osm_roads/roads_new.parquet', engine='pyarrow')\n",
    "df.head()"
   ]
  },
  {
   "cell_type": "markdown",
   "id": "former-meaning",
   "metadata": {},
   "source": [
    "Now the data is in the ideal form to construct the R\\*-tree and shuffle the data in the ```DataFrame``` accordingly. First the R\\*-tree is bulk loaded top-down according to the [OMT method](http://ftp.informatik.rwth-aachen.de/Publications/CEUR-WS/Vol-74/files/FORUM_18.pdf)\n",
    "\n",
    "However, for the sake of time, the custom dask-friendly OMT implementation is postponed and instead the functionality of ```libspatialindex``` Python wheel ```rtree``` is taken advantage of. It generates a separate index data structure out of the unique integer indices and bounding boxes that are provided to it. The resulting R-tree can later be queried using a bounding box of interest in which case it returns integer IDs intersecting the area of interest\n",
    "\n",
    "To efficiently and trivially seek the Dask Dataframe entries, the ```osm_id``` is passed as the identifier for each bounding box upon R-tree entry insertion, which can then be directly used to index into the out-of-core dataframe. It is important that before insertion, the street segment coordinates be projected into the same CRS as the one used for the Dask Dataframe entries."
   ]
  },
  {
   "cell_type": "code",
   "execution_count": 45,
   "id": "beginning-incentive",
   "metadata": {},
   "outputs": [],
   "source": [
    "import pyproj\n",
    "from shapely.geometry import LineString, Polygon, Point, box\n",
    "from shapely.ops import transform\n",
    "from shapely import wkb\n",
    "import fiona\n",
    "import rtree\n",
    "import time\n",
    "import numpy as np\n",
    "import pandas as pd\n",
    "import networkx as nx"
   ]
  },
  {
   "cell_type": "code",
   "execution_count": 18,
   "id": "terminal-supervisor",
   "metadata": {},
   "outputs": [
    {
     "name": "stdout",
     "output_type": "stream",
     "text": [
      "CPU times: user 18min 57s, sys: 44.2 s, total: 19min 41s\n",
      "Wall time: 18min 37s\n"
     ]
    }
   ],
   "source": [
    "%%time\n",
    "\n",
    "wgs84 = pyproj.CRS('EPSG:4326')\n",
    "pseudo_mercator = pyproj.CRS('EPSG:3857')\n",
    "\n",
    "project = pyproj.Transformer.from_crs(wgs84, pseudo_mercator, always_xy=True).transform\n",
    "\n",
    "with fiona.open('./../data/osm_roads/gis_osm_roads_free_1.shp') as layer_roads:\n",
    "    index = rtree.index.Rtree('roads')\n",
    "\n",
    "    for entry in layer_roads:\n",
    "        if entry['properties']['code'] in [5141, 5142, 5143, 5144, 5145, 5146, 5147, 5121, 5122, 5123, 5133, 5134, 5135, 5113, 5114, 5115, 5131, 5132, 5112, 5111]:\n",
    "            line = transform(project, LineString(entry['geometry']['coordinates']))\n",
    "            osm_id = int(entry['properties']['osm_id'])\n",
    "            index.insert(osm_id, line.bounds)"
   ]
  },
  {
   "cell_type": "markdown",
   "id": "homeless-miracle",
   "metadata": {},
   "source": [
    "Once the index is constructed, it is serialized to disk and can be later retreived again using the same ```rtree.index.Rtree('rtree_name')``` constructor. To verify that the index is correct, list length of the index intersection with its own bounds can be performed. It returns the same number of entries as the original shapefile using ```len(fiona.open(filename.shp))```\n",
    "\n",
    "In fact, since non-routable roads like pedestrian-only, bridleways, footways, cycleways, etc. were filtered out in the step above, the R-tree index is smaller than the original shapefile from GEOFABRIK by 89'433 entries"
   ]
  },
  {
   "cell_type": "code",
   "execution_count": 19,
   "id": "revolutionary-municipality",
   "metadata": {},
   "outputs": [
    {
     "name": "stdout",
     "output_type": "stream",
     "text": [
      "89433\n"
     ]
    }
   ],
   "source": [
    "layer_roads = fiona.open('./../data/osm_roads/gis_osm_roads_free_1.shp')\n",
    "print(len(layer_roads) - index.count(index.bounds))\n",
    "layer_roads.close()"
   ]
  },
  {
   "cell_type": "markdown",
   "id": "universal-mauritius",
   "metadata": {},
   "source": [
    "```find_intersections()``` func maps every Dask Dataframe road entry into a list of street intersections (nodes) and links between them (edges). It uses R-Tree index generated above to obtain list of osm_id's whose bounding boxes spatially intersect the bounding box of the road the dataset is tested against. \n",
    "\n",
    "The resulted handful of osm_id's are used for constant time trivial retrieval of the corresponding entry from the Dask Dataframe to test for actual intersection and composure of the list of node/edge tuples, which will later be fed into the NetworkX graph construction functions. \n",
    "\n",
    "A new Dask Dataframe results from it which is then iterated over to construct a MultiDiGraph of the road network with multiple edge attributes for multi-criteria routing"
   ]
  },
  {
   "cell_type": "code",
   "execution_count": 2,
   "id": "welcome-royalty",
   "metadata": {},
   "outputs": [],
   "source": [
    "from dask.distributed import Client\n",
    "import dask.dataframe as dd\n",
    "from shapely.geometry import LineString, Polygon, Point, box\n",
    "from shapely import wkb\n",
    "import rtree\n",
    "import time\n",
    "import pandas as pd\n",
    "import networkx as nx\n",
    "import rasterio\n",
    "from rasterio.plot import show\n",
    "\n",
    "# client = Client()\n",
    "# client"
   ]
  },
  {
   "cell_type": "markdown",
   "id": "funky-pasta",
   "metadata": {},
   "source": [
    "Using ```rasterio``` reproject GeoTIFF Digital Elevation Model raster files from EPSG:4326 to EPSG:3857 coordinate system. This can however be done only after merging together rasters since after transformation of each tile, their sizes would no longer be equal"
   ]
  },
  {
   "cell_type": "code",
   "execution_count": 3,
   "id": "dense-manufacturer",
   "metadata": {},
   "outputs": [],
   "source": [
    "from osgeo import gdal\n",
    "import pprint\n",
    "import os\n",
    "import rasterio\n",
    "from rasterio.transform import Affine\n",
    "from rasterio.plot import show\n",
    "import re\n",
    "import numpy as np"
   ]
  },
  {
   "cell_type": "code",
   "execution_count": 68,
   "id": "round-liquid",
   "metadata": {},
   "outputs": [],
   "source": [
    "files = []\n",
    "for i in range(1,6):\n",
    "    for k in range(1,9):\n",
    "        files.append('S02'+str(i)+'W04'+str(k))\n",
    "\n",
    "data_files = os.listdir('./../data/aw3d30_elevation')\n",
    "for file in files: \n",
    "    if file not in data_files:\n",
    "        s = re.findall('[1-9]{2}', file)\n",
    "        \n",
    "        Z = np.zeros((dataset.height, dataset.width), dtype=np.int16)\n",
    "        \n",
    "        os.mkdir('./../data/aw3d30_elevation/'+file)\n",
    "        \n",
    "        dataset = rasterio.open(\n",
    "            './../data/aw3d30_elevation/'+file+'/ALPSMLC30_'+file+'_DSM.tif',\n",
    "            'w',\n",
    "            driver='GTiff',\n",
    "            height=Z.shape[0],\n",
    "            width=Z.shape[1],\n",
    "            count=1,\n",
    "            dtype=Z.dtype,\n",
    "            crs='+proj=latlong',\n",
    "            transform=Affine(0.0002777777777777778, 0.0, -float(s[1]), 0.0, -0.0002777777777777778, -float(s[0])),\n",
    "        )\n",
    "\n",
    "        dataset.write(Z, 1)\n",
    "        dataset.close()"
   ]
  },
  {
   "cell_type": "code",
   "execution_count": 78,
   "id": "lyric-aviation",
   "metadata": {},
   "outputs": [
    {
     "data": {
      "text/plain": [
       "0"
      ]
     },
     "execution_count": 78,
     "metadata": {},
     "output_type": "execute_result"
    }
   ],
   "source": [
    "dem_list = ['./../data/aw3d30_elevation/'+file+'/ALPSMLC30_'+file+'_DSM.tif' for file in os.listdir('./../data/aw3d30_elevation')]\n",
    "dem_list.sort()\n",
    "\n",
    "cmd = 'gdal_merge.py -o ./../data/elevation/mergedDEM.tif ' + ' '.join(dem_list)\n",
    "os.system(cmd)"
   ]
  },
  {
   "cell_type": "markdown",
   "id": "efficient-acquisition",
   "metadata": {},
   "source": [
    "The DEM is now merged. Next step is to reproject it to a different CRS, namely EPSG:3857"
   ]
  },
  {
   "cell_type": "code",
   "execution_count": 84,
   "id": "controlled-harrison",
   "metadata": {},
   "outputs": [],
   "source": [
    "from rasterio.warp import calculate_default_transform, reproject, Resampling\n",
    "\n",
    "dst_crs = 'EPSG:3857'\n",
    "\n",
    "with rasterio.open('./../data/elevation/mergedDEM.tif') as src:\n",
    "    transform, width, height = calculate_default_transform(\n",
    "        src.crs, dst_crs, src.width, src.height, *src.bounds)\n",
    "    kwargs = src.meta.copy()\n",
    "    kwargs.update({\n",
    "        'crs': dst_crs,\n",
    "        'transform': transform,\n",
    "        'width': width,\n",
    "        'height': height\n",
    "    })\n",
    "\n",
    "    with rasterio.open('./../data/elevation/mergedReprojDEM.tif', 'w', **kwargs) as dst:\n",
    "        for i in range(1, src.count + 1):\n",
    "            reproject(\n",
    "                source=rasterio.band(src, i),\n",
    "                destination=rasterio.band(dst, i),\n",
    "                src_transform=src.transform,\n",
    "                src_crs=src.crs,\n",
    "                dst_transform=transform,\n",
    "                dst_crs=dst_crs,\n",
    "                resampling=Resampling.nearest)\n",
    "\n",
    "dataset = rasterio.open('./../data/elevation/mergedReprojDEM.tif')"
   ]
  },
  {
   "cell_type": "markdown",
   "id": "proof-skill",
   "metadata": {},
   "source": [
    "The resulting GeoTIFF of the region can be plotted and some basic details of the DEM can be reported"
   ]
  },
  {
   "cell_type": "code",
   "execution_count": 2,
   "id": "color-productivity",
   "metadata": {},
   "outputs": [
    {
     "data": {
      "image/png": "[encoded data removed]",
      "text/plain": [
       "<Figure size 432x288 with 1 Axes>"
      ]
     },
     "metadata": {
      "needs_background": "light"
     },
     "output_type": "display_data"
    },
    {
     "data": {
      "text/plain": [
       "<AxesSubplot:>"
      ]
     },
     "execution_count": 2,
     "metadata": {},
     "output_type": "execute_result"
    }
   ],
   "source": [
    "show(dataset.read(), transform=dataset.transform)"
   ]
  },
  {
   "cell_type": "code",
   "execution_count": 5,
   "id": "recent-soccer",
   "metadata": {},
   "outputs": [
    {
     "name": "stdout",
     "output_type": "stream",
     "text": [
      "{'bounds': BoundingBox(left=-5343335.558077134, bottom=-2999081.567456966, right=-4452784.082326574, top=-2273030.92698769),\n",
      " 'crs': CRS.from_epsg(3857),\n",
      " 'height': 22748,\n",
      " 'transform': Affine(31.917119767420253, 0.0, -5343335.558077134,\n",
      "       0.0, -31.917119767420253, -2273030.92698769),\n",
      " 'width': 27902}\n"
     ]
    }
   ],
   "source": [
    "pprint.pprint({\n",
    "    'crs': dataset.crs,\n",
    "    'transform': dataset.transform,\n",
    "    'width': dataset.width,\n",
    "    'height': dataset.height,\n",
    "    'bounds': dataset.bounds\n",
    "})\n",
    "\n",
    "dataset.close()"
   ]
  },
  {
   "cell_type": "code",
   "execution_count": 11,
   "id": "reported-fitting",
   "metadata": {},
   "outputs": [],
   "source": [
    "def find_intersections(row, ddf, geo_index, dataset, dem):\n",
    "    nodes = [] # Arrays of tuples for NetworkX MultiDiGraph\n",
    "    edges = []\n",
    "    \n",
    "    if not (row.bridge or row.tunnel): # We assume bridges and tunnels do not have intersections\n",
    "        fids = [int(i) for i in geo_index.intersection(wkb.loads(row.bbox).bounds)] # Query R-Tree by the bounding box of road 'x'\n",
    "        if not fids:\n",
    "            return nodes, edges\n",
    "        \n",
    "        a = wkb.loads(row.geometry)\n",
    "        road = a.coords[:]\n",
    "        intersections = [] # Container for street intersections\n",
    "        \n",
    "        for fid in fids:\n",
    "            if row.Index != fid:\n",
    "                entry = ddf.loc[fid].compute().iloc[0] # Retreive each road record from Dask Dataframe by osm_id if it is not the road 'x' itself\n",
    "                b = wkb.loads(entry.geometry)\n",
    "                if not (entry.bridge or entry.tunnel) and a.intersects(b): # Check if road with 'fid' osm_id actually intersects road 'x'\n",
    "                    pts = a.intersection(b)\n",
    "                    if pts.type == 'MultiPoint':\n",
    "                        (nodes.append((pt.coords[:][0], {'junction':[row.Index, fid], 'altitude':dem[dataset.index(*(pt.coords[:][0]))]})) for pt in pts)\n",
    "                        (intersections.append(pt) for pt in pts if pt.coords[:][0] != road[0] and pt.coords[:][0] != road[-1] and (pt.coords[:][0] not in intersections))\n",
    "                    elif pts.type == 'Point':\n",
    "                        nodes.append((pts.coords[:][0], {'junction':[row.Index, fid], 'altitude':dem[dataset.index(*(pts.coords[:][0]))]}))\n",
    "                        if pts.coords[:][0] != road[0] and pts.coords[:][0] != road[-1] and (pts.coords[:][0] not in intersections):\n",
    "                            intersections.append(pts)\n",
    "\n",
    "        segment_len = 0\n",
    "        segment_flatness = 0\n",
    "        previous_node_elevation = dem[dataset.index(*(road[0]))]\n",
    "        previous_node = road[0] # Coordinate keeping track of previous intersection/edge end\n",
    "\n",
    "        for idx in range(len(road)-1):\n",
    "            segment = LineString(road[idx:idx+2]) # LineString of straight line segment between two consecutive points\n",
    "            segment_start = road[idx] # Coordinate updating on every segment or when intersection encountered\n",
    "            queue = [] # Point objects that intersect this particular road straight line segment\n",
    "\n",
    "            for pt in list(intersections):\n",
    "                if segment.intersects(pt):\n",
    "                    queue.append(pt) # Put all junctions intersecting this segment into a queue\n",
    "                    intersections.remove(pt) # Remove the junction from left-over list of street intersections\n",
    "\n",
    "            if not queue:\n",
    "                segment_len += segment.length # If no junctions in this road segment, increase length by distance between LineString consecutive points\n",
    "                next_node_elevation = dem[dataset.index(*(road[idx+1]))]\n",
    "                segment_flatness += (previous_node_elevation - next_node_elevation) ** 2 \n",
    "                previous_node_elevation = next_node_elevation\n",
    "            else:\n",
    "                for pt in list(queue):\n",
    "                    line_lengths = [LineString([segment_start, p.coords[:][0]]).length for p in queue]\n",
    "                    shortest_line = min(line_lengths)\n",
    "\n",
    "                    next_node_idx = [k for k, l in enumerate(line_lengths) if l == shortest_line][0]\n",
    "                    next_node = queue[next_node_idx].coords[:][0]\n",
    "                    \n",
    "                    segment_len += LineString([segment_start, next_node]).length\n",
    "                    \n",
    "                    if segment_len: # Multiple roads crossing at the same junction. Can skip. osm_id's on intersectinos are maintained by nodes array\n",
    "                        next_node_elevation = dem[dataset.index(*(next_node))]\n",
    "                        segment_flatness += (previous_node_elevation - next_node_elevation) ** 2 \n",
    "                        previous_node_elevation = next_node_elevation\n",
    "\n",
    "                        edges.append((\n",
    "                            previous_node,\n",
    "                            next_node,\n",
    "                            {\n",
    "                                'length':segment_len,\n",
    "                                'weight':segment_len/row.maxspeed/1000,\n",
    "                                'flatness':segment_flatness/segment_len\n",
    "                            }))\n",
    "\n",
    "                        if not row.oneway: # If both way street, add identical reverse relation between MultiDiGraph nodes\n",
    "                            edges.append((\n",
    "                                next_node,\n",
    "                                previous_node,                          \n",
    "                                {\n",
    "                                    'length':segment_len,\n",
    "                                    'weight':segment_len/row.maxspeed/1000,\n",
    "                                    'flatness':segment_flatness/segment_len\n",
    "                                }))\n",
    "\n",
    "                    segment_len = 0\n",
    "                    segment_flatness = 0\n",
    "                    previous_node = next_node\n",
    "                    segment_start = next_node\n",
    "                    queue.remove(queue[next_node_idx]) # Remove the junction from the queue\n",
    "\n",
    "                segment_len += LineString([segment_start, road[idx+1]]).length # Get distance to the endpoint of the segment\n",
    "                next_node_elevation = dem[dataset.index(*(road[idx+1]))]\n",
    "                segment_flatness += (previous_node_elevation - next_node_elevation) ** 2 \n",
    "                previous_node_elevation = next_node_elevation\n",
    "\n",
    "        edges.append((\n",
    "            previous_node,\n",
    "            road[-1],\n",
    "            {\n",
    "                'length':segment_len,\n",
    "                'weight':segment_len/row.maxspeed/1000,\n",
    "                'flatness':segment_flatness/segment_len\n",
    "            }))\n",
    "\n",
    "        if not row.oneway: # If both way street, add identical reverse relation between MultiDiGraph nodes\n",
    "            edges.append((\n",
    "                road[-1],\n",
    "                previous_node,            \n",
    "                {\n",
    "                    'length':segment_len,\n",
    "                    'weight':segment_len/row.maxspeed/1000,\n",
    "                    'flatness':segment_flatness/segment_len\n",
    "                }))\n",
    "                \n",
    "    return nodes, edges    "
   ]
  },
  {
   "cell_type": "markdown",
   "id": "unnecessary-portsmouth",
   "metadata": {},
   "source": [
    "The ```find_intersections()``` func is applied to each Dask Dataframe row and a new Dask Dataframe of ```Graph``` and ```None``` entries is retuned\n",
    "\n",
    "As mentioned prior, ```MultiDiGraph``` is a directional graph with more than 1 link between any 2 nodes: its use allows to recreate the street traffic flow rules for oneway and twoway streets. The graph is constructed by iterating over Dask Dataframe and loading edges into the graph. Missing node attributes for completeness are later added as well"
   ]
  },
  {
   "cell_type": "code",
   "execution_count": null,
   "id": "electric-recruitment",
   "metadata": {
    "jupyter": {
     "source_hidden": true
    },
    "scrolled": true
   },
   "outputs": [],
   "source": [
    "%%time\n",
    "\n",
    "# \"Parallelized\" find_intersections - because of DataFrame.loc(), effectively only 1 core performs work.\n",
    "df2 = df.apply(\n",
    "    lambda x: pd.Series(\n",
    "        [find_intersections(x, df, index)],\n",
    "        index=['graph']),\n",
    "    axis=1,\n",
    "    meta={\n",
    "        'graph':'object'\n",
    "    }\n",
    ")\n",
    "\n",
    "for row in df2.itertuples():\n",
    "    if row.edges and row.nodes:\n",
    "        G = nx.MultiDiGraph()\n",
    "        G.add_edges_from(row.edges) # Creates nodes if they do not exist, creates an edge with attributes between them\n",
    "        for node in row.nodes: # Loops over affected new or existing nodes\n",
    "            for osm_id in node[1]['junction']:\n",
    "                if not G.nodes[node[0]]:\n",
    "                    G.nodes[node[0]]['junction'] = []\n",
    "                if osm_id not in G.nodes[node[0]]['junction']:\n",
    "                    G.nodes[node[0]]['junction'].append(osm_id) # Updates their attributes with 'osm_id' of streets causing intersection"
   ]
  },
  {
   "cell_type": "code",
   "execution_count": null,
   "id": "civic-helena",
   "metadata": {},
   "outputs": [],
   "source": [
    "index = rtree.index.Rtree('roads')\n",
    "\n",
    "df = dd.read_parquet('./../data/osm_roads/roads_new.parquet', engine='pyarrow')\n",
    "\n",
    "dataset = rasterio.open('./../data/elevation/mergedReprojDEM.tif')\n",
    "dem = dataset.read(1)\n",
    "\n",
    "G = nx.MultiDiGraph()\n",
    "\n",
    "# Non-parallelized find_intersections\n",
    "for row in df.itertuples():\n",
    "    (nodes, edges) = find_intersections(row, df, index, dataset, dem)\n",
    "    \n",
    "    if edges and nodes:\n",
    "        G.add_edges_from(edges) # Creates nodes if they do not exist, creates an edge with attributes between them\n",
    "        for node in nodes: # Loops over affected new or existing nodes\n",
    "            for osm_id in node[1]['junction']:\n",
    "                if 'junction' not in G.nodes[node[0]]:\n",
    "                    G.nodes[node[0]]['junction'] = []\n",
    "                if osm_id not in G.nodes[node[0]]['junction']:\n",
    "                    G.nodes[node[0]]['junction'].append(osm_id) # Updates their attributes with 'osm_id' of streets causing intersection\n",
    "            if 'altitude' not in G.nodes[node[0]]:\n",
    "                G.nodes[node[0]]['altitude'] = node[1]['altitude']"
   ]
  },
  {
   "cell_type": "code",
   "execution_count": 8,
   "id": "earlier-victorian",
   "metadata": {},
   "outputs": [
    {
     "data": {
      "text/plain": [
       "MultiAdjacencyView({(-4809319.763755888, -2630124.935315485): {(-4809313.162510083, -2629997.5113071804): {0: {'length': 127.61895867001408, 'weight': 0.0042539652890004696, 'flatness': 0.1958956589251195}}}, (-4809313.162510083, -2629997.5113071804): {(-4809302.364519477, -2629866.968630097): {0: {'length': 130.98850003440228, 'weight': 0.004366283334480076, 'flatness': 0.03053703186882403}}}, (-4809302.364519477, -2629866.968630097): {(-4809298.69097628, -2629801.5404910925): {0: {'length': 65.53118565384614, 'weight': 0.0021843728551282043, 'flatness': 0.24415856115462994}}}, (-4809298.69097628, -2629801.5404910925): {(-4809295.273467913, -2629740.4897805024): {0: {'length': 61.14629577794464, 'weight': 0.002038209859264821, 'flatness': 0.8013568013661134}}}, (-4809295.273467913, -2629740.4897805024): {(-4809290.241826929, -2629650.649280443): {0: {'length': 89.98129173300876, 'weight': 0.002999376391100292, 'flatness': 0.10002079128520043}}}, (-4809290.241826929, -2629650.649280443): {(-4809283.840956208, -2629546.1181226103): {0: {'length': 104.74192531510508, 'weight': 0.0034913975105035026, 'flatness': 1.6134895314515296}}}, (-4809283.840956208, -2629546.1181226103): {}})"
      ]
     },
     "execution_count": 8,
     "metadata": {},
     "output_type": "execute_result"
    }
   ],
   "source": [
    "G.adj"
   ]
  },
  {
   "cell_type": "code",
   "execution_count": 27,
   "id": "verified-concentration",
   "metadata": {},
   "outputs": [
    {
     "data": {
      "image/png": "[encoded data removed]",
      "text/plain": [
       "<Figure size 432x288 with 1 Axes>"
      ]
     },
     "metadata": {},
     "output_type": "display_data"
    }
   ],
   "source": [
    "pos=dict()\n",
    "for node in G.nodes:\n",
    "    pos[node]=node\n",
    "    \n",
    "nx.draw(G, pos=pos)"
   ]
  },
  {
   "cell_type": "code",
   "execution_count": null,
   "id": "likely-welcome",
   "metadata": {},
   "outputs": [],
   "source": [
    "from pyproj import Transformer\n",
    "import folium\n",
    "\n",
    "m = folium.Map(location=[-22.983840,-43.211162], zoom_start=15)\n",
    "\n",
    "transformer = Transformer.from_crs(\"EPSG:3857\",\"EPSG:4326\")\n",
    "\n",
    "for node in G.nodes:\n",
    "    folium.Marker(transformer.transform(*node)).add_to(m)\n",
    "    \n",
    "m"
   ]
  },
  {
   "cell_type": "code",
   "execution_count": 4,
   "id": "afraid-elevation",
   "metadata": {},
   "outputs": [
    {
     "name": "stderr",
     "output_type": "stream",
     "text": [
      "distributed.client - ERROR - Failed to reconnect to scheduler after 10.00 seconds, closing client\n",
      "_GatheringFuture exception was never retrieved\n",
      "future: <_GatheringFuture finished exception=CancelledError()>\n",
      "asyncio.exceptions.CancelledError\n"
     ]
    }
   ],
   "source": [
    "client.shutdown()"
   ]
  },
  {
   "cell_type": "code",
   "execution_count": null,
   "id": "documentary-development",
   "metadata": {},
   "outputs": [],
   "source": []
  }
 ],
 "metadata": {
  "kernelspec": {
   "display_name": "Python 3",
   "language": "python",
   "name": "python3"
  },
  "language_info": {
   "codemirror_mode": {
    "name": "ipython",
    "version": 3
   },
   "file_extension": ".py",
   "mimetype": "text/x-python",
   "name": "python",
   "nbconvert_exporter": "python",
   "pygments_lexer": "ipython3",
   "version": "3.8.5"
  }
 },
 "nbformat": 4,
 "nbformat_minor": 5
}
